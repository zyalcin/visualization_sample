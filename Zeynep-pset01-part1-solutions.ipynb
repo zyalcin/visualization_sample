{
 "cells": [
  {
   "cell_type": "markdown",
   "metadata": {},
   "source": [
    "# Assignment 1: Python Practice  "
   ]
  },
  {
   "cell_type": "markdown",
   "metadata": {},
   "source": [
    "## Author: Zeynep Yalcin\n",
    "### September 16th 2021\n",
    "### Part  1: JSON, Lists,  and  Dictionaries\n"
   ]
  },
  {
   "cell_type": "code",
   "execution_count": 1,
   "metadata": {},
   "outputs": [],
   "source": [
    "import json"
   ]
  },
  {
   "cell_type": "code",
   "execution_count": 2,
   "metadata": {},
   "outputs": [
    {
     "name": "stdout",
     "output_type": "stream",
     "text": [
      "This dictionary has 32571 elements.\n"
     ]
    }
   ],
   "source": [
    "with open('/Users/zeynoyalcin/Downloads/women2020.json') as file:\n",
    "    data= json.load(file)\n",
    "print(\"This dictionary has\" , len(data) , \"elements.\") # number of items in dictionary "
   ]
  },
  {
   "cell_type": "code",
   "execution_count": 3,
   "metadata": {},
   "outputs": [
    {
     "name": "stdout",
     "output_type": "stream",
     "text": [
      "{('Kamala Harris', 'Vox'), ('Elizabeth Warren', 'MSNBC.com'), ('Kamala Harris', 'Washington Post'), ('Kirsten Gillibrand', 'CBS News'), ('Kirsten Gillibrand', 'AOL.com'), ('Amy Klobuchar', 'Washington Examiner'), ('Kamala Harris', 'KTVN.com'), ('Elizabeth Warren', 'Fox News'), ('Elizabeth Warren', 'Yahoo Finance'), ('Amy Klobuchar', 'Columbia Journalism Review')}\n"
     ]
    }
   ],
   "source": [
    "with open('/Users/zeynoyalcin/Downloads/women2020.json') as file:\n",
    "    women10 = json.load(file)[0:10] #grab first ten women from the list \n",
    "    result = {(i['query'],i['source']) for i in women10} #name, source\n",
    "print(result)"
   ]
  },
  {
   "cell_type": "code",
   "execution_count": 4,
   "metadata": {},
   "outputs": [
    {
     "name": "stdout",
     "output_type": "stream",
     "text": [
      "Amy Klobuchar has 8116 stories.\n",
      "Elizabeth Warren has 8207 stories.\n",
      "Kamala Harris has 8169 stories.\n",
      "Kirsten Gillibrand has 8079 stories.\n"
     ]
    }
   ],
   "source": [
    "from collections import defaultdict\n",
    "women2020Dict = defaultdict(list)\n",
    "\n",
    "for i in data:\n",
    "    women2020Dict [i['query']].append(i) #make a list of all the names \n",
    "\n",
    "for name in sorted(women2020Dict):\n",
    "    print(\"{} has {} stories.\".format(name, len(women2020Dict[name]))) #get number of stories"
   ]
  },
  {
   "cell_type": "code",
   "execution_count": 5,
   "metadata": {},
   "outputs": [
    {
     "name": "stdout",
     "output_type": "stream",
     "text": [
      "Amy Klobuchar        --> 2019-05-16 00:00:00\n",
      "Elizabeth Warren     --> 2019-02-09 00:00:00\n",
      "Kamala Harris        --> 2019-02-22 06:00:00\n",
      "Kirsten Gillibrand   --> 2019-01-16 00:00:00\n"
     ]
    }
   ],
   "source": [
    "for name in sorted(women2020Dict):\n",
    "    print(\"{:<20} --> {}\".format(name, women2020Dict [name][0]['moment'] ))\n"
   ]
  },
  {
   "cell_type": "code",
   "execution_count": 6,
   "metadata": {},
   "outputs": [
    {
     "name": "stdout",
     "output_type": "stream",
     "text": [
      "Elizabeth Warren     --> 2018-12-15 18:00:00\n",
      "Kirsten Gillibrand   --> 2018-12-15 18:00:00\n",
      "Kamala Harris        --> 2018-12-15 18:00:00\n",
      "Amy Klobuchar        --> 2018-12-15 18:00:00\n"
     ]
    }
   ],
   "source": [
    "for name in women2020Dict:\n",
    "    women2020Dict [name].sort(key=lambda moment: moment['moment'])\n",
    "    print(\"{:<20} --> {}\".format(name, women2020Dict [name][0]['moment']))"
   ]
  },
  {
   "cell_type": "code",
   "execution_count": 7,
   "metadata": {},
   "outputs": [
    {
     "data": {
      "text/plain": [
       "Counter({'aa': 3, 'ab': 2, 'ac': 1, 'ad': 1})"
      ]
     },
     "execution_count": 7,
     "metadata": {},
     "output_type": "execute_result"
    }
   ],
   "source": [
    "from collections import Counter\n",
    "codes = ['aa', 'ab', 'aa', 'ac', 'ab', 'ad', 'aa']\n",
    "Counter(codes)\n",
    "\n",
    "Counter({'aa': 3, 'ab': 2, 'ac': 1, 'ad': 1})\n"
   ]
  },
  {
   "cell_type": "code",
   "execution_count": 8,
   "metadata": {},
   "outputs": [
    {
     "name": "stdout",
     "output_type": "stream",
     "text": [
      "Amy Klobuchar--->1306\n",
      "Elizabeth Warren--->2825\n",
      "Kamala Harris--->2458\n",
      "Kirsten Gillibrand--->1436\n"
     ]
    }
   ],
   "source": [
    "unique_article = defaultdict(Counter)\n",
    "\n",
    "for name in women2020Dict :\n",
    "    unique_article[name] = Counter([i[\"url\"] for i in women2020Dict[name]]) #get all of the urls for each name\n",
    "\n",
    "for name in sorted(unique_article):\n",
    "    print(name+'--->'+str(len(unique_article[name]))) #get the number of urls and print them"
   ]
  },
  {
   "cell_type": "code",
   "execution_count": 9,
   "metadata": {},
   "outputs": [
    {
     "name": "stdout",
     "output_type": "stream",
     "text": [
      "{'Elizabeth Warren': {'https://www.nytimes.com/2018/12/20/opinion/elizabeth-warren-trump.html': 35, 'https://www.bostonglobe.com/news/nation/2018/12/22/elizabeth-warren-bernie-sanders-could-fight-for-same-left-lane-primary/qYfvtm70F4sf02lDkrM5VJ/story.html': 30, 'https://www.vox.com/policy-and-politics/2018/12/20/18146993/elizabeth-warren-2020-election-drug-prices-bill': 26, 'https://www.washingtonpost.com/opinions/2018/12/21/elizabeth-warrens-generic-drugs-plan-more-placebo-than-cure/': 25, 'https://theintercept.com/2018/12/18/elizabeth-warren-generic-drugs-bill/': 21}, 'Kirsten Gillibrand': {'https://www.newsweek.com/senator-kirsten-gillibrand-says-its-worrying-top-three-2020-frontrunners-are-1260500': 82, 'https://www.theatlantic.com/ideas/archive/2018/12/kirsten-gillibrand-tweets-about-intersectional-feminism/578776/': 77, 'https://www.cnn.com/2018/12/15/politics/gillibrand-2020-van-jones-cnntv/index.html': 73, 'https://www.huffingtonpost.com/entry/kirsten-gillibrand-is-worried-that-top-2020-dem-candidates-are-all-white-men_us_5c17ac75e4b009b8aea9807a': 68, 'https://www.theatlantic.com/politics/archive/2018/12/gillibrand-still-faces-questions-about-al-franken/578281/': 57}, 'Kamala Harris': {'https://www.cnn.com/2018/12/23/politics/kamala-harris-2020-early-primary-signs/index.html': 27, 'https://www.mcclatchydc.com/news/politics-government/election/campaigns/article223272545.html': 25, 'https://www.newsweek.com/ann-coulter-predicts-kamala-harris-will-be-next-president-1267074': 22, 'https://www.sfchronicle.com/bayarea/williesworld/article/Everything-Kamala-Harris-is-doing-says-she-s-13485640.php': 20, 'https://www.nytimes.com/2018/12/29/opinion/sunday/kamala-harris-affordable-care-act-medicare.html': 20}, 'Amy Klobuchar': {'https://www.newyorker.com/news/the-new-yorker-interview/senator-amy-klobuchar-trump-2020-kavanaugh-presidential-run': 94, 'https://www.cnn.com/2019/01/02/politics/democrats-2020-electability-elizabeth-warren-amy-klobuchar-sherrod-brown/index.html': 74, 'https://www.politico.com/story/2018/12/17/poll-klobuchar-rising-in-iowa-1067256': 64, 'https://www.politico.com/story/2018/12/14/klobuchar-dem-nominee-2020-left-behind-voters-1065225': 63, 'https://www.nytimes.com/2018/11/26/us/politics/amy-klobuchar-2020-election.html': 62}}\n"
     ]
    }
   ],
   "source": [
    "top5Articles = {}\n",
    "\n",
    "for name in unique_article:\n",
    "    tempDct = unique_article[name]\n",
    "    top5Articles[name] = {url: cnt for url, cnt in tempDct.most_common(5)} #you input 3 for clipped result\n",
    "print(top5Articles)\n"
   ]
  },
  {
   "cell_type": "code",
   "execution_count": 10,
   "metadata": {},
   "outputs": [],
   "source": [
    "with open('unique-articles.json','w') as file:\n",
    "    json.dump(unique_article,file)"
   ]
  }
 ],
 "metadata": {
  "kernelspec": {
   "display_name": "Python 3",
   "language": "python",
   "name": "python3"
  },
  "language_info": {
   "codemirror_mode": {
    "name": "ipython",
    "version": 3
   },
   "file_extension": ".py",
   "mimetype": "text/x-python",
   "name": "python",
   "nbconvert_exporter": "python",
   "pygments_lexer": "ipython3",
   "version": "3.7.6"
  }
 },
 "nbformat": 4,
 "nbformat_minor": 4
}
