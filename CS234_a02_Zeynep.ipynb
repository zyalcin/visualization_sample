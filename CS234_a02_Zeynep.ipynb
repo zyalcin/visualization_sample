{
 "cells": [
  {
   "cell_type": "markdown",
   "metadata": {},
   "source": [
    "# Best movies by women directors \n",
    "## Zeynep Yalcin \n",
    "### CS 234 Problem Set 2- Task 3\n",
    "#### Collaborated with Chiara"
   ]
  },
  {
   "cell_type": "markdown",
   "metadata": {},
   "source": [
    "Task 1: Using the packages requests and BeautifulSoup to extract the list of 100 movies from the BBC web page."
   ]
  },
  {
   "cell_type": "code",
   "execution_count": 1,
   "metadata": {},
   "outputs": [],
   "source": [
    "# URL1 contains the list of best movies (exactly 100)\n",
    "url= \"https://www.bbc.com/culture/article/20191125-the-100-greatest-films-directed-by-women-poll\""
   ]
  },
  {
   "cell_type": "code",
   "execution_count": 2,
   "metadata": {},
   "outputs": [],
   "source": [
    "import requests\n",
    "import bs4\n",
    "from bs4.element import NavigableString\n",
    "import pandas as pd\n",
    "from matplotlib import pyplot as plt # shorten the name to type it more easily\n",
    "from bs4 import BeautifulSoup as BS # shorten the name to type it more easily"
   ]
  },
  {
   "cell_type": "markdown",
   "metadata": {},
   "source": [
    "A function to retrieve the content of a URL"
   ]
  },
  {
   "cell_type": "code",
   "execution_count": 3,
   "metadata": {},
   "outputs": [],
   "source": [
    "def getHTMLPage(url):\n",
    "    \"\"\"Given a url, get the HTML page content\"\"\"\n",
    "    \n",
    "    response = requests.get(url)\n",
    "    if response.status_code == 200: #if code is 200 the webpage has been sucesfully loaded\n",
    "        return response.text\n",
    "    else:\n",
    "        print(\"Error: {}. Failure resaon: {}\".format(response.status_code, \n",
    "                                                     response.reason))\n",
    "        return"
   ]
  },
  {
   "cell_type": "markdown",
   "metadata": {},
   "source": [
    "Test to make sure this function works to retrieve information from the page, such as the title:"
   ]
  },
  {
   "cell_type": "code",
   "execution_count": 4,
   "metadata": {},
   "outputs": [
    {
     "data": {
      "text/plain": [
       "<title data-rh=\"true\">The 100 greatest films directed by women - BBC Culture</title>"
      ]
     },
     "execution_count": 4,
     "metadata": {},
     "output_type": "execute_result"
    }
   ],
   "source": [
    "htmlPage = getHTMLPage(url)\n",
    "domTree = BS(htmlPage, 'html.parser')\n",
    "domTree.title"
   ]
  },
  {
   "cell_type": "markdown",
   "metadata": {},
   "source": [
    "By inspecting the source HTML of the page, I noticed that the names are nested in < p> elements, so I knew it was contained in of the <p> breaks."
   ]
  },
  {
   "cell_type": "code",
   "execution_count": 5,
   "metadata": {},
   "outputs": [
    {
     "data": {
      "text/plain": [
       "16"
      ]
     },
     "execution_count": 5,
     "metadata": {},
     "output_type": "execute_result"
    }
   ],
   "source": [
    "items = domTree.select(\"p\")\n",
    "len(items)"
   ]
  },
  {
   "cell_type": "code",
   "execution_count": 6,
   "metadata": {},
   "outputs": [
    {
     "name": "stdout",
     "output_type": "stream",
     "text": [
      "<p>100. The Kids are All Right (Lisa Cholodenko, 2010)<br/>99.    The Souvenir (Joanna Hogg, 2019)<br/>98.    Somewhere (Sofia Coppola, 2010)<br/>97.    Adoption (Márta Mészáros, 1975)<br/>96.    The Meetings of Anna (Chantal Akerman, 1977)<br/>95.    Ritual in Transfigured Time (Maya Deren, 1946)<br/>94.    News From Home (Chantal Akerman, 1977)<br/>93.    Red Road (Andrea Arnold, 2006)<br/>92.    Raw (Julia Ducournau, 2016)<br/>91.    White Material (Claire Denis, 2009)<br/>90.    Fast Times at Ridgemont High (Amy Heckerling, 1982)<br/>89.    The Beaches of Agnes (Agnès Varda, 2008)<br/>88.    The Silences of the Palace (Moufida Tlatli, 1994)<br/>87.    35 Shots of Rum (Claire Denis, 2008)<br/>86.    Wadjda (Haifaa Al-Mansour, 2012)<br/>85.    One Sings, The Other Doesn’t (Agnès Varda, 1977)<br/>84.    Portrait of Jason (Shirley Clarke, 1967)<br/>83.    Sleepless in Seattle (Nora Ephron, 1993)<br/>82.    At Land (Maya Deren, 1944)<br/>81.    A Girl Walks Home Alone at Night (Ana Lily Amirpour, 2014)<br/>80.    Big (Penny Marshall, 1988)<br/>79.    Shoes (Lois Weber, 1916)<br/>78.    The Apple (Samira Makhmalbaf, 1998)<br/>77.    Tomboy (Céline Sciamma, 2011)<br/>76.    Girlhood (Céline Sciamma, 2014)<br/>75.    Meek’s Cutoff (Kelly Reichardt, 2010)<br/>74.    Chocolat (Claire Denis, 1988)<br/>73.    On Body and Soul (Ildikó Enyedi, 2017)<br/>72.    Europa Europa (Agnieszka Holland, 1980)<br/>71.    The Seashell and the Clergyman (Germaine Dulac, 1928)<br/>70.    Whale Rider (Niki Caro, 2002)<br/>69.    The Connection (Shirley Clarke, 1961)<br/>68.    Eve’s Bayou (Kasi Lemmons, 1997)<br/>67.    The German Sisters (Margarethe von Trotta, 1981)<br/>66.    Ratcatcher (Lynne Ramsay, 1999)<br/>65.    Leave no Trace (Debra Granik, 2018)<br/>64.    The Rider (Chloe Zhao, 2017)<br/>63.    Marie Antoinette (Sofia Coppola, 2006)<br/>62.    Strange Days (Kathryn Bigelow, 1995)<br/>61.    India Song (Marguerite Duras, 1975)<br/>60.    A League of their Own (Penny Marshall, 1992)<br/>59.    The Long Farewell (Kira Muratova, 1971)<br/>58.    Desperately Seeking Susan (Susan Seidelman, 1985)<br/>57.    The Babadook (Jennifer Kent, 2014)<br/>56.    13th (Ava DuVernay, 2016)<br/>55.    Monster (Patty Jenkins, 2003)<br/>54.    Bright Star (Jane Campion, 2009)<br/>53.    The Headless Woman (Lucrecia Martel, 2008)<br/>52.    Happy as Lazzaro (Alice Rohrwacher, 2018)<br/>51.    Harlan County, USA (Barbara Kopple, 1976)<br/>50.    Outrage (Ida Lupino, 1950)<br/>49.    Salaam Bombay! (Mira Nair, 1988)<br/>48.    The Asthenic Syndrome (Kira Muratova, 1989)<br/>47.    An Angel at my Table (Jane Campion, 1990)<br/>46.    Near Dark (Kathryn Bigelow, 1987)<br/>45.    Triumph of the Will (Leni Riefenstahl, 1935)<br/>44.    American Honey (Andrea Arnold, 2016)<br/>43.    The Virgin Suicides (Sofia Coppola, 1999)<br/>42.    The Adventures of Prince Achmed (Lotte Reiniger, 1926)<br/>41.    Capernaum (Nadine Labaki, 2018)<br/>40.    Boys Don’t Cry (Kimberly Peirce, 1999)<br/>39.    Portrait of a Lady on Fire (Céline Sciamma, 2019)<br/>38.    Paris is Burning (Jennie Livingston, 1990)<br/>37.    Olympia (Leni Riefenstahl, 1938)<br/>36.    Wendy and Lucy (Kelly Reichardt, 2008)<br/>35.    The Matrix (Lana and Lilly Wachowski, 1999)<br/>34.    Morvern Callar (Lynne Ramsay, 2002)<br/>33.    You Were Never Really Here (Lynne Ramsay, 2017)<br/>32.    The Night Porter (Liliana Cavani, 1974)<br/>31.    The Gleaners and I (Agnès Varda, 2000)<br/>30.    Zama (Lucrecia Martel, 2017)<br/>29.    Monsoon Wedding (Mira Nair, 2001)<br/>28.    Le Bonheur (Agnès Varda, 1965)<br/>27.    Selma (Ava DuVernay, 2014)<br/>26.    Stories we Tell (Sarah Polley, 2012)<br/>25.    The House is Black (Forugh Farrokhzad, 1963)<br/>24.    Lady Bird (Greta Gerwig, 2017)<br/>23.    The Hitch-Hiker (Ida Lupino, 1953)<br/>23.    We Need to Talk About Kevin (Lynne Ramsay, 2011)<br/>21.    Winter’s Bone (Debra Granik, 2010)<br/>20.    Clueless (Amy Heckerling, 1995)<br/>19.    Orlando (Sally Potter, 1992)<br/>18.    American Psycho (Mary Harron, 2000)<br/>17.    Seven Beauties (Lina Wertmüller, 1975)<br/>16.    Wanda (Barbara Loden, 1970)<br/>15.    The Swamp (Lucrecia Martel, 2001)<br/>14.    Point Break (Kathryn Bigelow, 1991)<br/>13.    Vagabond (Agnès Varda, 1985)<br/>12.    Zero Dark Thirty (Kathryn Bigelow, 2012)<br/>11.    The Ascent (Larisa Shepitko, 1977)<br/>10.    Daughters of the Dust (Julie Dash, 1991)<br/>  9.    Fish Tank (Andrea Arnold, 2009)<br/>  8.    Toni Erdmann (Maren Ade, 2016)<br/>  7.    The Hurt Locker (Kathryn Bigelow, 2008)<br/>  6.    Daisies (Věra Chytilová, 1966)<br/>  5.    Lost in Translation (Sofia Coppola, 2003)<br/>  4.    Beau Travail (Claire Denis, 1999)<br/>  3.    Jeanne Dielman, 23 Quai du Commerce, 1080 Bruxelles (Chantal Akerman, 1975)<br/>  2.    Cléo from 5 to 7 (Agnès Varda, 1962)<br/>  1.    The Piano (Jane Campion, 1993)</p>\n"
     ]
    }
   ],
   "source": [
    "directorslist = items[9]\n",
    "print(directorslist)"
   ]
  },
  {
   "cell_type": "markdown",
   "metadata": {},
   "source": [
    "Now that I have the paragprah that contains the rankings, now I need to extract the text from it.\n",
    "Before doing that I just made sure that the list is correct by printing it."
   ]
  },
  {
   "cell_type": "code",
   "execution_count": 7,
   "metadata": {},
   "outputs": [],
   "source": [
    "page= requests.get(url)\n",
    "soup= BS(page.text, 'html.parser') \n",
    "allP = soup.find_all('p')\n",
    "p9 = allP[9]"
   ]
  },
  {
   "cell_type": "code",
   "execution_count": 8,
   "metadata": {},
   "outputs": [],
   "source": [
    "def listToString(s):\n",
    "    strl= \" \"\n",
    "    return (strl.join(s))"
   ]
  },
  {
   "cell_type": "code",
   "execution_count": 9,
   "metadata": {},
   "outputs": [
    {
     "name": "stdout",
     "output_type": "stream",
     "text": [
      "[{'rank': 100, 'year': '2010', 'director': 'Lisa Cholodenko', 'movie': 'The Kids are All Right'}, {'rank': 99, 'year': '2019', 'director': 'Joanna Hogg', 'movie': 'The Souvenir'}, {'rank': 98, 'year': '2010', 'director': 'Sofia Coppola', 'movie': 'Somewhere'}, {'rank': 97, 'year': '1975', 'director': 'Márta Mészáros', 'movie': 'Adoption'}, {'rank': 96, 'year': '1977', 'director': 'Chantal Akerman', 'movie': 'The Meetings of Anna'}, {'rank': 95, 'year': '1946', 'director': 'Maya Deren', 'movie': 'Ritual in Transfigured Time'}, {'rank': 94, 'year': '1977', 'director': 'Chantal Akerman', 'movie': 'News From Home'}, {'rank': 93, 'year': '2006', 'director': 'Andrea Arnold', 'movie': 'Red Road'}, {'rank': 92, 'year': '2016', 'director': 'Julia Ducournau', 'movie': 'Raw'}, {'rank': 91, 'year': '2009', 'director': 'Claire Denis', 'movie': 'White Material'}, {'rank': 90, 'year': '1982', 'director': 'Amy Heckerling', 'movie': 'Fast Times at Ridgemont High'}, {'rank': 89, 'year': '2008', 'director': 'Agnès Varda', 'movie': 'The Beaches of Agnes'}, {'rank': 88, 'year': '1994', 'director': 'Moufida Tlatli', 'movie': 'The Silences of the Palace'}, {'rank': 87, 'year': '2008', 'director': 'Claire Denis', 'movie': '35 Shots of Rum'}, {'rank': 86, 'year': '2012', 'director': 'Haifaa Al-Mansour', 'movie': 'Wadjda'}, {'rank': 85, 'year': '1977', 'director': 'Agnès Varda', 'movie': 'One Sings, The Other Doesn’t'}, {'rank': 84, 'year': '1967', 'director': 'Shirley Clarke', 'movie': 'Portrait of Jason'}, {'rank': 83, 'year': '1993', 'director': 'Nora Ephron', 'movie': 'Sleepless in Seattle'}, {'rank': 82, 'year': '1944', 'director': 'Maya Deren', 'movie': 'At Land'}, {'rank': 81, 'year': '2014', 'director': 'Ana Lily Amirpour', 'movie': 'A Girl Walks Home Alone at Night'}, {'rank': 80, 'year': '1988', 'director': 'Penny Marshall', 'movie': 'Big'}, {'rank': 79, 'year': '1916', 'director': 'Lois Weber', 'movie': 'Shoes'}, {'rank': 78, 'year': '1998', 'director': 'Samira Makhmalbaf', 'movie': 'The Apple'}, {'rank': 77, 'year': '2011', 'director': 'Céline Sciamma', 'movie': 'Tomboy'}, {'rank': 76, 'year': '2014', 'director': 'Céline Sciamma', 'movie': 'Girlhood'}, {'rank': 75, 'year': '2010', 'director': 'Kelly Reichardt', 'movie': 'Meek’s Cutoff'}, {'rank': 74, 'year': '1988', 'director': 'Claire Denis', 'movie': 'Chocolat'}, {'rank': 73, 'year': '2017', 'director': 'Ildikó Enyedi', 'movie': 'On Body and Soul'}, {'rank': 72, 'year': '1980', 'director': 'Agnieszka Holland', 'movie': 'Europa Europa'}, {'rank': 71, 'year': '1928', 'director': 'Germaine Dulac', 'movie': 'The Seashell and the Clergyman'}, {'rank': 70, 'year': '2002', 'director': 'Niki Caro', 'movie': 'Whale Rider'}, {'rank': 69, 'year': '1961', 'director': 'Shirley Clarke', 'movie': 'The Connection'}, {'rank': 68, 'year': '1997', 'director': 'Kasi Lemmons', 'movie': 'Eve’s Bayou'}, {'rank': 67, 'year': '1981', 'director': 'Margarethe von Trotta', 'movie': 'The German Sisters'}, {'rank': 66, 'year': '1999', 'director': 'Lynne Ramsay', 'movie': 'Ratcatcher'}, {'rank': 65, 'year': '2018', 'director': 'Debra Granik', 'movie': 'Leave no Trace'}, {'rank': 64, 'year': '2017', 'director': 'Chloe Zhao', 'movie': 'The Rider'}, {'rank': 63, 'year': '2006', 'director': 'Sofia Coppola', 'movie': 'Marie Antoinette'}, {'rank': 62, 'year': '1995', 'director': 'Kathryn Bigelow', 'movie': 'Strange Days'}, {'rank': 61, 'year': '1975', 'director': 'Marguerite Duras', 'movie': 'India Song'}, {'rank': 60, 'year': '1992', 'director': 'Penny Marshall', 'movie': 'A League of their Own'}, {'rank': 59, 'year': '1971', 'director': 'Kira Muratova', 'movie': 'The Long Farewell'}, {'rank': 58, 'year': '1985', 'director': 'Susan Seidelman', 'movie': 'Desperately Seeking Susan'}, {'rank': 57, 'year': '2014', 'director': 'Jennifer Kent', 'movie': 'The Babadook'}, {'rank': 56, 'year': '2016', 'director': 'Ava DuVernay', 'movie': '13th'}, {'rank': 55, 'year': '2003', 'director': 'Patty Jenkins', 'movie': 'Monster'}, {'rank': 54, 'year': '2009', 'director': 'Jane Campion', 'movie': 'Bright Star'}, {'rank': 53, 'year': '2008', 'director': 'Lucrecia Martel', 'movie': 'The Headless Woman'}, {'rank': 52, 'year': '2018', 'director': 'Alice Rohrwacher', 'movie': 'Happy as Lazzaro'}, {'rank': 51, 'year': '1976', 'director': 'Barbara Kopple', 'movie': 'Harlan County, USA'}, {'rank': 50, 'year': '1950', 'director': 'Ida Lupino', 'movie': 'Outrage'}, {'rank': 49, 'year': '1988', 'director': 'Mira Nair', 'movie': 'Salaam Bombay!'}, {'rank': 48, 'year': '1989', 'director': 'Kira Muratova', 'movie': 'The Asthenic Syndrome'}, {'rank': 47, 'year': '1990', 'director': 'Jane Campion', 'movie': 'An Angel at my Table'}, {'rank': 46, 'year': '1987', 'director': 'Kathryn Bigelow', 'movie': 'Near Dark'}, {'rank': 45, 'year': '1935', 'director': 'Leni Riefenstahl', 'movie': 'Triumph of the Will'}, {'rank': 44, 'year': '2016', 'director': 'Andrea Arnold', 'movie': 'American Honey'}, {'rank': 43, 'year': '1999', 'director': 'Sofia Coppola', 'movie': 'The Virgin Suicides'}, {'rank': 42, 'year': '1926', 'director': 'Lotte Reiniger', 'movie': 'The Adventures of Prince Achmed'}, {'rank': 41, 'year': '2018', 'director': 'Nadine Labaki', 'movie': 'Capernaum'}, {'rank': 40, 'year': '1999', 'director': 'Kimberly Peirce', 'movie': 'Boys Don’t Cry'}, {'rank': 39, 'year': '2019', 'director': 'Céline Sciamma', 'movie': 'Portrait of a Lady on Fire'}, {'rank': 38, 'year': '1990', 'director': 'Jennie Livingston', 'movie': 'Paris is Burning'}, {'rank': 37, 'year': '1938', 'director': 'Leni Riefenstahl', 'movie': 'Olympia'}, {'rank': 36, 'year': '2008', 'director': 'Kelly Reichardt', 'movie': 'Wendy and Lucy'}, {'rank': 35, 'year': '1999', 'director': 'Lana and Lilly Wachowski', 'movie': 'The Matrix'}, {'rank': 34, 'year': '2002', 'director': 'Lynne Ramsay', 'movie': 'Morvern Callar'}, {'rank': 33, 'year': '2017', 'director': 'Lynne Ramsay', 'movie': 'You Were Never Really Here'}, {'rank': 32, 'year': '1974', 'director': 'Liliana Cavani', 'movie': 'The Night Porter'}, {'rank': 31, 'year': '2000', 'director': 'Agnès Varda', 'movie': 'The Gleaners and I'}, {'rank': 30, 'year': '2017', 'director': 'Lucrecia Martel', 'movie': 'Zama'}, {'rank': 29, 'year': '2001', 'director': 'Mira Nair', 'movie': 'Monsoon Wedding'}, {'rank': 28, 'year': '1965', 'director': 'Agnès Varda', 'movie': 'Le Bonheur'}, {'rank': 27, 'year': '2014', 'director': 'Ava DuVernay', 'movie': 'Selma'}, {'rank': 26, 'year': '2012', 'director': 'Sarah Polley', 'movie': 'Stories we Tell'}, {'rank': 25, 'year': '1963', 'director': 'Forugh Farrokhzad', 'movie': 'The House is Black'}, {'rank': 24, 'year': '2017', 'director': 'Greta Gerwig', 'movie': 'Lady Bird'}, {'rank': 23, 'year': '1953', 'director': 'Ida Lupino', 'movie': 'The Hitch-Hiker'}, {'rank': 23, 'year': '2011', 'director': 'Lynne Ramsay', 'movie': 'We Need to Talk About Kevin'}, {'rank': 21, 'year': '2010', 'director': 'Debra Granik', 'movie': 'Winter’s Bone'}, {'rank': 20, 'year': '1995', 'director': 'Amy Heckerling', 'movie': 'Clueless'}, {'rank': 19, 'year': '1992', 'director': 'Sally Potter', 'movie': 'Orlando'}, {'rank': 18, 'year': '2000', 'director': 'Mary Harron', 'movie': 'American Psycho'}, {'rank': 17, 'year': '1975', 'director': 'Lina Wertmüller', 'movie': 'Seven Beauties'}, {'rank': 16, 'year': '1970', 'director': 'Barbara Loden', 'movie': 'Wanda'}, {'rank': 15, 'year': '2001', 'director': 'Lucrecia Martel', 'movie': 'The Swamp'}, {'rank': 14, 'year': '1991', 'director': 'Kathryn Bigelow', 'movie': 'Point Break'}, {'rank': 13, 'year': '1985', 'director': 'Agnès Varda', 'movie': 'Vagabond'}, {'rank': 12, 'year': '2012', 'director': 'Kathryn Bigelow', 'movie': 'Zero Dark Thirty'}, {'rank': 11, 'year': '1977', 'director': 'Larisa Shepitko', 'movie': 'The Ascent'}, {'rank': 10, 'year': '1991', 'director': 'Julie Dash', 'movie': 'Daughters of the Dust'}, {'rank': 9, 'year': '2009', 'director': 'Andrea Arnold', 'movie': 'Fish Tank'}, {'rank': 8, 'year': '2016', 'director': 'Maren Ade', 'movie': 'Toni Erdmann'}, {'rank': 7, 'year': '2008', 'director': 'Kathryn Bigelow', 'movie': 'The Hurt Locker'}, {'rank': 6, 'year': '1966', 'director': 'Věra Chytilová', 'movie': 'Daisies'}, {'rank': 5, 'year': '2003', 'director': 'Sofia Coppola', 'movie': 'Lost in Translation'}, {'rank': 4, 'year': '1999', 'director': 'Claire Denis', 'movie': 'Beau Travail'}, {'rank': 3, 'year': '1975', 'director': 'Chantal Akerman', 'movie': 'Jeanne Dielman, 23 Quai du Commerce, 1080 Bruxelles'}, {'rank': 2, 'year': '1962', 'director': 'Agnès Varda', 'movie': 'Cléo from 5 to 7'}, {'rank': 1, 'year': '1993', 'director': 'Jane Campion', 'movie': 'The Piano'}]\n"
     ]
    }
   ],
   "source": [
    "from bs4 import *\n",
    "replace = ('(),')\n",
    "entries = []\n",
    "for c in p9.children:\n",
    "    if type(c) == NavigableString:\n",
    "        sp = c.split()\n",
    "        dct = {}\n",
    "        dct['rank'] = int(sp[0].replace(\".\", \"\"))\n",
    "        for word in sp:\n",
    "            if '(' in word:\n",
    "                idx= sp.index(word)\n",
    "                dct['director']= listToString(sp[idx:len(sp)-1]).replace('(','').replace(',','')\n",
    "                dct['movie'] = listToString(sp[1:idx])\n",
    "            dct['year']= sp[len(sp)-1].replace(')',\"\")\n",
    "        entries.append(dct)\n",
    "        \n",
    "print(entries)"
   ]
  },
  {
   "cell_type": "markdown",
   "metadata": {},
   "source": [
    "This is another method that I tried in order to create a list of dictionaries but I ran into some problems so I ended up using the method seen above!"
   ]
  },
  {
   "cell_type": "code",
   "execution_count": 10,
   "metadata": {},
   "outputs": [
    {
     "name": "stdout",
     "output_type": "stream",
     "text": [
      "199\n",
      "100. The Kids are All Right (Lisa Cholodenko, 2010)\n",
      "<br/>\n",
      "99.    The Souvenir (Joanna Hogg, 2019)\n",
      "<br/>\n",
      "98.    Somewhere (Sofia Coppola, 2010)\n",
      "<br/>\n",
      "97.    Adoption (Márta Mészáros, 1975)\n",
      "<br/>\n",
      "96.    The Meetings of Anna (Chantal Akerman, 1977)\n",
      "<br/>\n",
      "95.    Ritual in Transfigured Time (Maya Deren, 1946)\n",
      "<br/>\n",
      "94.    News From Home (Chantal Akerman, 1977)\n",
      "<br/>\n",
      "93.    Red Road (Andrea Arnold, 2006)\n",
      "<br/>\n",
      "92.    Raw (Julia Ducournau, 2016)\n",
      "<br/>\n",
      "91.    White Material (Claire Denis, 2009)\n",
      "<br/>\n",
      "90.    Fast Times at Ridgemont High (Amy Heckerling, 1982)\n",
      "<br/>\n",
      "89.    The Beaches of Agnes (Agnès Varda, 2008)\n",
      "<br/>\n",
      "88.    The Silences of the Palace (Moufida Tlatli, 1994)\n",
      "<br/>\n",
      "87.    35 Shots of Rum (Claire Denis, 2008)\n",
      "<br/>\n",
      "86.    Wadjda (Haifaa Al-Mansour, 2012)\n",
      "<br/>\n",
      "85.    One Sings, The Other Doesn’t (Agnès Varda, 1977)\n",
      "<br/>\n",
      "84.    Portrait of Jason (Shirley Clarke, 1967)\n",
      "<br/>\n",
      "83.    Sleepless in Seattle (Nora Ephron, 1993)\n",
      "<br/>\n",
      "82.    At Land (Maya Deren, 1944)\n",
      "<br/>\n",
      "81.    A Girl Walks Home Alone at Night (Ana Lily Amirpour, 2014)\n",
      "<br/>\n",
      "80.    Big (Penny Marshall, 1988)\n",
      "<br/>\n",
      "79.    Shoes (Lois Weber, 1916)\n",
      "<br/>\n",
      "78.    The Apple (Samira Makhmalbaf, 1998)\n",
      "<br/>\n",
      "77.    Tomboy (Céline Sciamma, 2011)\n",
      "<br/>\n",
      "76.    Girlhood (Céline Sciamma, 2014)\n",
      "<br/>\n",
      "75.    Meek’s Cutoff (Kelly Reichardt, 2010)\n",
      "<br/>\n",
      "74.    Chocolat (Claire Denis, 1988)\n",
      "<br/>\n",
      "73.    On Body and Soul (Ildikó Enyedi, 2017)\n",
      "<br/>\n",
      "72.    Europa Europa (Agnieszka Holland, 1980)\n",
      "<br/>\n",
      "71.    The Seashell and the Clergyman (Germaine Dulac, 1928)\n",
      "<br/>\n",
      "70.    Whale Rider (Niki Caro, 2002)\n",
      "<br/>\n",
      "69.    The Connection (Shirley Clarke, 1961)\n",
      "<br/>\n",
      "68.    Eve’s Bayou (Kasi Lemmons, 1997)\n",
      "<br/>\n",
      "67.    The German Sisters (Margarethe von Trotta, 1981)\n",
      "<br/>\n",
      "66.    Ratcatcher (Lynne Ramsay, 1999)\n",
      "<br/>\n",
      "65.    Leave no Trace (Debra Granik, 2018)\n",
      "<br/>\n",
      "64.    The Rider (Chloe Zhao, 2017)\n",
      "<br/>\n",
      "63.    Marie Antoinette (Sofia Coppola, 2006)\n",
      "<br/>\n",
      "62.    Strange Days (Kathryn Bigelow, 1995)\n",
      "<br/>\n",
      "61.    India Song (Marguerite Duras, 1975)\n",
      "<br/>\n",
      "60.    A League of their Own (Penny Marshall, 1992)\n",
      "<br/>\n",
      "59.    The Long Farewell (Kira Muratova, 1971)\n",
      "<br/>\n",
      "58.    Desperately Seeking Susan (Susan Seidelman, 1985)\n",
      "<br/>\n",
      "57.    The Babadook (Jennifer Kent, 2014)\n",
      "<br/>\n",
      "56.    13th (Ava DuVernay, 2016)\n",
      "<br/>\n",
      "55.    Monster (Patty Jenkins, 2003)\n",
      "<br/>\n",
      "54.    Bright Star (Jane Campion, 2009)\n",
      "<br/>\n",
      "53.    The Headless Woman (Lucrecia Martel, 2008)\n",
      "<br/>\n",
      "52.    Happy as Lazzaro (Alice Rohrwacher, 2018)\n",
      "<br/>\n",
      "51.    Harlan County, USA (Barbara Kopple, 1976)\n",
      "<br/>\n",
      "50.    Outrage (Ida Lupino, 1950)\n",
      "<br/>\n",
      "49.    Salaam Bombay! (Mira Nair, 1988)\n",
      "<br/>\n",
      "48.    The Asthenic Syndrome (Kira Muratova, 1989)\n",
      "<br/>\n",
      "47.    An Angel at my Table (Jane Campion, 1990)\n",
      "<br/>\n",
      "46.    Near Dark (Kathryn Bigelow, 1987)\n",
      "<br/>\n",
      "45.    Triumph of the Will (Leni Riefenstahl, 1935)\n",
      "<br/>\n",
      "44.    American Honey (Andrea Arnold, 2016)\n",
      "<br/>\n",
      "43.    The Virgin Suicides (Sofia Coppola, 1999)\n",
      "<br/>\n",
      "42.    The Adventures of Prince Achmed (Lotte Reiniger, 1926)\n",
      "<br/>\n",
      "41.    Capernaum (Nadine Labaki, 2018)\n",
      "<br/>\n",
      "40.    Boys Don’t Cry (Kimberly Peirce, 1999)\n",
      "<br/>\n",
      "39.    Portrait of a Lady on Fire (Céline Sciamma, 2019)\n",
      "<br/>\n",
      "38.    Paris is Burning (Jennie Livingston, 1990)\n",
      "<br/>\n",
      "37.    Olympia (Leni Riefenstahl, 1938)\n",
      "<br/>\n",
      "36.    Wendy and Lucy (Kelly Reichardt, 2008)\n",
      "<br/>\n",
      "35.    The Matrix (Lana and Lilly Wachowski, 1999)\n",
      "<br/>\n",
      "34.    Morvern Callar (Lynne Ramsay, 2002)\n",
      "<br/>\n",
      "33.    You Were Never Really Here (Lynne Ramsay, 2017)\n",
      "<br/>\n",
      "32.    The Night Porter (Liliana Cavani, 1974)\n",
      "<br/>\n",
      "31.    The Gleaners and I (Agnès Varda, 2000)\n",
      "<br/>\n",
      "30.    Zama (Lucrecia Martel, 2017)\n",
      "<br/>\n",
      "29.    Monsoon Wedding (Mira Nair, 2001)\n",
      "<br/>\n",
      "28.    Le Bonheur (Agnès Varda, 1965)\n",
      "<br/>\n",
      "27.    Selma (Ava DuVernay, 2014)\n",
      "<br/>\n",
      "26.    Stories we Tell (Sarah Polley, 2012)\n",
      "<br/>\n",
      "25.    The House is Black (Forugh Farrokhzad, 1963)\n",
      "<br/>\n",
      "24.    Lady Bird (Greta Gerwig, 2017)\n",
      "<br/>\n",
      "23.    The Hitch-Hiker (Ida Lupino, 1953)\n",
      "<br/>\n",
      "23.    We Need to Talk About Kevin (Lynne Ramsay, 2011)\n",
      "<br/>\n",
      "21.    Winter’s Bone (Debra Granik, 2010)\n",
      "<br/>\n",
      "20.    Clueless (Amy Heckerling, 1995)\n",
      "<br/>\n",
      "19.    Orlando (Sally Potter, 1992)\n",
      "<br/>\n",
      "18.    American Psycho (Mary Harron, 2000)\n",
      "<br/>\n",
      "17.    Seven Beauties (Lina Wertmüller, 1975)\n",
      "<br/>\n",
      "16.    Wanda (Barbara Loden, 1970)\n",
      "<br/>\n",
      "15.    The Swamp (Lucrecia Martel, 2001)\n",
      "<br/>\n",
      "14.    Point Break (Kathryn Bigelow, 1991)\n",
      "<br/>\n",
      "13.    Vagabond (Agnès Varda, 1985)\n",
      "<br/>\n",
      "12.    Zero Dark Thirty (Kathryn Bigelow, 2012)\n",
      "<br/>\n",
      "11.    The Ascent (Larisa Shepitko, 1977)\n",
      "<br/>\n",
      "10.    Daughters of the Dust (Julie Dash, 1991)\n",
      "<br/>\n",
      "  9.    Fish Tank (Andrea Arnold, 2009)\n",
      "<br/>\n",
      "  8.    Toni Erdmann (Maren Ade, 2016)\n",
      "<br/>\n",
      "  7.    The Hurt Locker (Kathryn Bigelow, 2008)\n",
      "<br/>\n",
      "  6.    Daisies (Věra Chytilová, 1966)\n",
      "<br/>\n",
      "  5.    Lost in Translation (Sofia Coppola, 2003)\n",
      "<br/>\n",
      "  4.    Beau Travail (Claire Denis, 1999)\n",
      "<br/>\n",
      "  3.    Jeanne Dielman, 23 Quai du Commerce, 1080 Bruxelles (Chantal Akerman, 1975)\n",
      "<br/>\n",
      "  2.    Cléo from 5 to 7 (Agnès Varda, 1962)\n",
      "<br/>\n",
      "  1.    The Piano (Jane Campion, 1993)\n"
     ]
    }
   ],
   "source": [
    "print(len(directorslist))\n",
    "for movies in directorslist:\n",
    "    print(movies)\n",
    "    #for each break create a new movie \n",
    "    #get the children \n",
    "    #print(list(movies.children))\n",
    "    #print(movies)"
   ]
  },
  {
   "cell_type": "markdown",
   "metadata": {},
   "source": [
    "Since this text contains a lot of punctuation, I wrote a code that would use the punctuation to break it up into the pieces that I need"
   ]
  },
  {
   "cell_type": "code",
   "execution_count": 11,
   "metadata": {},
   "outputs": [],
   "source": [
    "def getdata(item):\n",
    "    \"\"\"Extracting informartion.\"\"\"\n",
    "    r, t = item.split(\".\")\n",
    "    t, n = t.split('(')\n",
    "    n, y = n.split(',')\n",
    "    y, p = y.split(')')\n",
    "   \n",
    "    return {\"rank\": int(r.strip()), \"title\": t.strip(), \"director\": n.strip(), \"year\": int(y.strip())}"
   ]
  },
  {
   "cell_type": "markdown",
   "metadata": {},
   "source": [
    "Now I am creating a list that contains the dictionaries of each movie, with the information of rank, year, director and name found in this list."
   ]
  },
  {
   "cell_type": "code",
   "execution_count": 12,
   "metadata": {},
   "outputs": [
    {
     "name": "stdout",
     "output_type": "stream",
     "text": [
      "{'rank': 1, 'title': 'The Piano', 'director': 'Jane Campion', 'year': 1993}\n"
     ]
    },
    {
     "ename": "KeyError",
     "evalue": "'100. The Kids are All Right (Lisa Cholodenko, 2010)'",
     "output_type": "error",
     "traceback": [
      "\u001b[0;31m---------------------------------------------------------------------------\u001b[0m",
      "\u001b[0;31mKeyError\u001b[0m                                  Traceback (most recent call last)",
      "\u001b[0;32m<ipython-input-12-4411bee8b6b7>\u001b[0m in \u001b[0;36m<module>\u001b[0;34m\u001b[0m\n\u001b[1;32m      2\u001b[0m \u001b[0mprint\u001b[0m\u001b[0;34m(\u001b[0m\u001b[0mgetdata\u001b[0m\u001b[0;34m(\u001b[0m\u001b[0mmovies\u001b[0m\u001b[0;34m)\u001b[0m\u001b[0;34m)\u001b[0m\u001b[0;34m\u001b[0m\u001b[0;34m\u001b[0m\u001b[0m\n\u001b[1;32m      3\u001b[0m \u001b[0;32mfor\u001b[0m \u001b[0mmovies\u001b[0m \u001b[0;32min\u001b[0m \u001b[0mdirectorslist\u001b[0m\u001b[0;34m:\u001b[0m\u001b[0;34m\u001b[0m\u001b[0;34m\u001b[0m\u001b[0m\n\u001b[0;32m----> 4\u001b[0;31m     \u001b[0mmovie_list\u001b[0m\u001b[0;34m.\u001b[0m\u001b[0mappend\u001b[0m\u001b[0;34m(\u001b[0m\u001b[0mgetdata\u001b[0m\u001b[0;34m(\u001b[0m\u001b[0mdirectorslist\u001b[0m\u001b[0;34m[\u001b[0m\u001b[0mmovies\u001b[0m\u001b[0;34m]\u001b[0m\u001b[0;34m)\u001b[0m\u001b[0;34m)\u001b[0m\u001b[0;34m\u001b[0m\u001b[0;34m\u001b[0m\u001b[0m\n\u001b[0m\u001b[1;32m      5\u001b[0m \u001b[0;34m\u001b[0m\u001b[0m\n",
      "\u001b[0;32m/opt/anaconda3/lib/python3.8/site-packages/bs4/element.py\u001b[0m in \u001b[0;36m__getitem__\u001b[0;34m(self, key)\u001b[0m\n\u001b[1;32m   1404\u001b[0m         \"\"\"tag[key] returns the value of the 'key' attribute for the Tag,\n\u001b[1;32m   1405\u001b[0m         and throws an exception if it's not there.\"\"\"\n\u001b[0;32m-> 1406\u001b[0;31m         \u001b[0;32mreturn\u001b[0m \u001b[0mself\u001b[0m\u001b[0;34m.\u001b[0m\u001b[0mattrs\u001b[0m\u001b[0;34m[\u001b[0m\u001b[0mkey\u001b[0m\u001b[0;34m]\u001b[0m\u001b[0;34m\u001b[0m\u001b[0;34m\u001b[0m\u001b[0m\n\u001b[0m\u001b[1;32m   1407\u001b[0m \u001b[0;34m\u001b[0m\u001b[0m\n\u001b[1;32m   1408\u001b[0m     \u001b[0;32mdef\u001b[0m \u001b[0m__iter__\u001b[0m\u001b[0;34m(\u001b[0m\u001b[0mself\u001b[0m\u001b[0;34m)\u001b[0m\u001b[0;34m:\u001b[0m\u001b[0;34m\u001b[0m\u001b[0;34m\u001b[0m\u001b[0m\n",
      "\u001b[0;31mKeyError\u001b[0m: '100. The Kids are All Right (Lisa Cholodenko, 2010)'"
     ]
    }
   ],
   "source": [
    "movie_list= []\n",
    "print(getdata(movies))\n",
    "for movies in directorslist:\n",
    "    movie_list.append(getdata(directorslist[movies]))\n",
    "    "
   ]
  },
  {
   "cell_type": "markdown",
   "metadata": {},
   "source": [
    "Task 2: Using the results from Task 1 generate a dataframe to store the data. "
   ]
  },
  {
   "cell_type": "code",
   "execution_count": 13,
   "metadata": {},
   "outputs": [
    {
     "data": {
      "text/html": [
       "<div>\n",
       "<style scoped>\n",
       "    .dataframe tbody tr th:only-of-type {\n",
       "        vertical-align: middle;\n",
       "    }\n",
       "\n",
       "    .dataframe tbody tr th {\n",
       "        vertical-align: top;\n",
       "    }\n",
       "\n",
       "    .dataframe thead th {\n",
       "        text-align: right;\n",
       "    }\n",
       "</style>\n",
       "<table border=\"1\" class=\"dataframe\">\n",
       "  <thead>\n",
       "    <tr style=\"text-align: right;\">\n",
       "      <th></th>\n",
       "      <th>rank</th>\n",
       "      <th>director</th>\n",
       "      <th>movie</th>\n",
       "      <th>year</th>\n",
       "    </tr>\n",
       "  </thead>\n",
       "  <tbody>\n",
       "    <tr>\n",
       "      <th>0</th>\n",
       "      <td>100</td>\n",
       "      <td>Lisa Cholodenko</td>\n",
       "      <td>The Kids are All Right</td>\n",
       "      <td>2010</td>\n",
       "    </tr>\n",
       "    <tr>\n",
       "      <th>1</th>\n",
       "      <td>99</td>\n",
       "      <td>Joanna Hogg</td>\n",
       "      <td>The Souvenir</td>\n",
       "      <td>2019</td>\n",
       "    </tr>\n",
       "    <tr>\n",
       "      <th>2</th>\n",
       "      <td>98</td>\n",
       "      <td>Sofia Coppola</td>\n",
       "      <td>Somewhere</td>\n",
       "      <td>2010</td>\n",
       "    </tr>\n",
       "    <tr>\n",
       "      <th>3</th>\n",
       "      <td>97</td>\n",
       "      <td>Márta Mészáros</td>\n",
       "      <td>Adoption</td>\n",
       "      <td>1975</td>\n",
       "    </tr>\n",
       "    <tr>\n",
       "      <th>4</th>\n",
       "      <td>96</td>\n",
       "      <td>Chantal Akerman</td>\n",
       "      <td>The Meetings of Anna</td>\n",
       "      <td>1977</td>\n",
       "    </tr>\n",
       "    <tr>\n",
       "      <th>...</th>\n",
       "      <td>...</td>\n",
       "      <td>...</td>\n",
       "      <td>...</td>\n",
       "      <td>...</td>\n",
       "    </tr>\n",
       "    <tr>\n",
       "      <th>95</th>\n",
       "      <td>5</td>\n",
       "      <td>Sofia Coppola</td>\n",
       "      <td>Lost in Translation</td>\n",
       "      <td>2003</td>\n",
       "    </tr>\n",
       "    <tr>\n",
       "      <th>96</th>\n",
       "      <td>4</td>\n",
       "      <td>Claire Denis</td>\n",
       "      <td>Beau Travail</td>\n",
       "      <td>1999</td>\n",
       "    </tr>\n",
       "    <tr>\n",
       "      <th>97</th>\n",
       "      <td>3</td>\n",
       "      <td>Chantal Akerman</td>\n",
       "      <td>Jeanne Dielman, 23 Quai du Commerce, 1080 Brux...</td>\n",
       "      <td>1975</td>\n",
       "    </tr>\n",
       "    <tr>\n",
       "      <th>98</th>\n",
       "      <td>2</td>\n",
       "      <td>Agnès Varda</td>\n",
       "      <td>Cléo from 5 to 7</td>\n",
       "      <td>1962</td>\n",
       "    </tr>\n",
       "    <tr>\n",
       "      <th>99</th>\n",
       "      <td>1</td>\n",
       "      <td>Jane Campion</td>\n",
       "      <td>The Piano</td>\n",
       "      <td>1993</td>\n",
       "    </tr>\n",
       "  </tbody>\n",
       "</table>\n",
       "<p>100 rows × 4 columns</p>\n",
       "</div>"
      ],
      "text/plain": [
       "    rank         director                                              movie  \\\n",
       "0    100  Lisa Cholodenko                             The Kids are All Right   \n",
       "1     99      Joanna Hogg                                       The Souvenir   \n",
       "2     98    Sofia Coppola                                          Somewhere   \n",
       "3     97   Márta Mészáros                                           Adoption   \n",
       "4     96  Chantal Akerman                               The Meetings of Anna   \n",
       "..   ...              ...                                                ...   \n",
       "95     5    Sofia Coppola                                Lost in Translation   \n",
       "96     4     Claire Denis                                       Beau Travail   \n",
       "97     3  Chantal Akerman  Jeanne Dielman, 23 Quai du Commerce, 1080 Brux...   \n",
       "98     2      Agnès Varda                                   Cléo from 5 to 7   \n",
       "99     1     Jane Campion                                          The Piano   \n",
       "\n",
       "    year  \n",
       "0   2010  \n",
       "1   2019  \n",
       "2   2010  \n",
       "3   1975  \n",
       "4   1977  \n",
       "..   ...  \n",
       "95  2003  \n",
       "96  1999  \n",
       "97  1975  \n",
       "98  1962  \n",
       "99  1993  \n",
       "\n",
       "[100 rows x 4 columns]"
      ]
     },
     "execution_count": 13,
     "metadata": {},
     "output_type": "execute_result"
    }
   ],
   "source": [
    "movies_df = pd.read_json ('/Users/zeynoyalcin/Desktop/best_movies_list.json')\n",
    "movies_df"
   ]
  },
  {
   "cell_type": "markdown",
   "metadata": {},
   "source": [
    "Add a new column “decade” to record the decade in which the movie was released. "
   ]
  },
  {
   "cell_type": "code",
   "execution_count": 14,
   "metadata": {
    "scrolled": true
   },
   "outputs": [
    {
     "data": {
      "text/html": [
       "<div>\n",
       "<style scoped>\n",
       "    .dataframe tbody tr th:only-of-type {\n",
       "        vertical-align: middle;\n",
       "    }\n",
       "\n",
       "    .dataframe tbody tr th {\n",
       "        vertical-align: top;\n",
       "    }\n",
       "\n",
       "    .dataframe thead th {\n",
       "        text-align: right;\n",
       "    }\n",
       "</style>\n",
       "<table border=\"1\" class=\"dataframe\">\n",
       "  <thead>\n",
       "    <tr style=\"text-align: right;\">\n",
       "      <th></th>\n",
       "      <th>rank</th>\n",
       "      <th>director</th>\n",
       "      <th>movie</th>\n",
       "      <th>year</th>\n",
       "      <th>decade</th>\n",
       "    </tr>\n",
       "  </thead>\n",
       "  <tbody>\n",
       "    <tr>\n",
       "      <th>0</th>\n",
       "      <td>100</td>\n",
       "      <td>Lisa Cholodenko</td>\n",
       "      <td>The Kids are All Right</td>\n",
       "      <td>2010</td>\n",
       "      <td>2010</td>\n",
       "    </tr>\n",
       "    <tr>\n",
       "      <th>1</th>\n",
       "      <td>99</td>\n",
       "      <td>Joanna Hogg</td>\n",
       "      <td>The Souvenir</td>\n",
       "      <td>2019</td>\n",
       "      <td>2010</td>\n",
       "    </tr>\n",
       "    <tr>\n",
       "      <th>2</th>\n",
       "      <td>98</td>\n",
       "      <td>Sofia Coppola</td>\n",
       "      <td>Somewhere</td>\n",
       "      <td>2010</td>\n",
       "      <td>2010</td>\n",
       "    </tr>\n",
       "    <tr>\n",
       "      <th>3</th>\n",
       "      <td>97</td>\n",
       "      <td>Márta Mészáros</td>\n",
       "      <td>Adoption</td>\n",
       "      <td>1975</td>\n",
       "      <td>1970</td>\n",
       "    </tr>\n",
       "    <tr>\n",
       "      <th>4</th>\n",
       "      <td>96</td>\n",
       "      <td>Chantal Akerman</td>\n",
       "      <td>The Meetings of Anna</td>\n",
       "      <td>1977</td>\n",
       "      <td>1970</td>\n",
       "    </tr>\n",
       "    <tr>\n",
       "      <th>...</th>\n",
       "      <td>...</td>\n",
       "      <td>...</td>\n",
       "      <td>...</td>\n",
       "      <td>...</td>\n",
       "      <td>...</td>\n",
       "    </tr>\n",
       "    <tr>\n",
       "      <th>95</th>\n",
       "      <td>5</td>\n",
       "      <td>Sofia Coppola</td>\n",
       "      <td>Lost in Translation</td>\n",
       "      <td>2003</td>\n",
       "      <td>2000</td>\n",
       "    </tr>\n",
       "    <tr>\n",
       "      <th>96</th>\n",
       "      <td>4</td>\n",
       "      <td>Claire Denis</td>\n",
       "      <td>Beau Travail</td>\n",
       "      <td>1999</td>\n",
       "      <td>1990</td>\n",
       "    </tr>\n",
       "    <tr>\n",
       "      <th>97</th>\n",
       "      <td>3</td>\n",
       "      <td>Chantal Akerman</td>\n",
       "      <td>Jeanne Dielman, 23 Quai du Commerce, 1080 Brux...</td>\n",
       "      <td>1975</td>\n",
       "      <td>1970</td>\n",
       "    </tr>\n",
       "    <tr>\n",
       "      <th>98</th>\n",
       "      <td>2</td>\n",
       "      <td>Agnès Varda</td>\n",
       "      <td>Cléo from 5 to 7</td>\n",
       "      <td>1962</td>\n",
       "      <td>1960</td>\n",
       "    </tr>\n",
       "    <tr>\n",
       "      <th>99</th>\n",
       "      <td>1</td>\n",
       "      <td>Jane Campion</td>\n",
       "      <td>The Piano</td>\n",
       "      <td>1993</td>\n",
       "      <td>1990</td>\n",
       "    </tr>\n",
       "  </tbody>\n",
       "</table>\n",
       "<p>100 rows × 5 columns</p>\n",
       "</div>"
      ],
      "text/plain": [
       "    rank         director                                              movie  \\\n",
       "0    100  Lisa Cholodenko                             The Kids are All Right   \n",
       "1     99      Joanna Hogg                                       The Souvenir   \n",
       "2     98    Sofia Coppola                                          Somewhere   \n",
       "3     97   Márta Mészáros                                           Adoption   \n",
       "4     96  Chantal Akerman                               The Meetings of Anna   \n",
       "..   ...              ...                                                ...   \n",
       "95     5    Sofia Coppola                                Lost in Translation   \n",
       "96     4     Claire Denis                                       Beau Travail   \n",
       "97     3  Chantal Akerman  Jeanne Dielman, 23 Quai du Commerce, 1080 Brux...   \n",
       "98     2      Agnès Varda                                   Cléo from 5 to 7   \n",
       "99     1     Jane Campion                                          The Piano   \n",
       "\n",
       "    year  decade  \n",
       "0   2010    2010  \n",
       "1   2019    2010  \n",
       "2   2010    2010  \n",
       "3   1975    1970  \n",
       "4   1977    1970  \n",
       "..   ...     ...  \n",
       "95  2003    2000  \n",
       "96  1999    1990  \n",
       "97  1975    1970  \n",
       "98  1962    1960  \n",
       "99  1993    1990  \n",
       "\n",
       "[100 rows x 5 columns]"
      ]
     },
     "execution_count": 14,
     "metadata": {},
     "output_type": "execute_result"
    }
   ],
   "source": [
    "movies_df['decade'] = (10 * (movies_df['year'] // 10)) #a decade occurs every 10 years so divide the years\n",
    "movies_df"
   ]
  },
  {
   "cell_type": "markdown",
   "metadata": {},
   "source": [
    "This part is for task 3 where I just want the repeating directors!"
   ]
  },
  {
   "cell_type": "code",
   "execution_count": 15,
   "metadata": {},
   "outputs": [
    {
     "name": "stdout",
     "output_type": "stream",
     "text": [
      "    rank          director                                              movie  \\\n",
      "55    45  Leni Riefenstahl                                Triumph of the Will   \n",
      "63    37  Leni Riefenstahl                                            Olympia   \n",
      "18    82        Maya Deren                                            At Land   \n",
      "5     95        Maya Deren                        Ritual in Transfigured Time   \n",
      "50    50        Ida Lupino                                            Outrage   \n",
      "77    23        Ida Lupino                                    The Hitch-Hiker   \n",
      "31    69    Shirley Clarke                                     The Connection   \n",
      "98     2       Agnès Varda                                   Cléo from 5 to 7   \n",
      "72    28       Agnès Varda                                         Le Bonheur   \n",
      "16    84    Shirley Clarke                                  Portrait of Jason   \n",
      "41    59     Kira Muratova                                  The Long Farewell   \n",
      "97     3   Chantal Akerman  Jeanne Dielman, 23 Quai du Commerce, 1080 Brux...   \n",
      "15    85       Agnès Varda                       One Sings, The Other Doesn’t   \n",
      "6     94   Chantal Akerman                                     News From Home   \n",
      "4     96   Chantal Akerman                               The Meetings of Anna   \n",
      "10    90    Amy Heckerling                       Fast Times at Ridgemont High   \n",
      "87    13       Agnès Varda                                           Vagabond   \n",
      "54    46   Kathryn Bigelow                                          Near Dark   \n",
      "51    49         Mira Nair                                     Salaam Bombay!   \n",
      "20    80    Penny Marshall                                                Big   \n",
      "26    74      Claire Denis                                           Chocolat   \n",
      "52    48     Kira Muratova                              The Asthenic Syndrome   \n",
      "53    47      Jane Campion                               An Angel at my Table   \n",
      "86    14   Kathryn Bigelow                                        Point Break   \n",
      "40    60    Penny Marshall                              A League of their Own   \n",
      "99     1      Jane Campion                                          The Piano   \n",
      "38    62   Kathryn Bigelow                                       Strange Days   \n",
      "80    20    Amy Heckerling                                           Clueless   \n",
      "96     4      Claire Denis                                       Beau Travail   \n",
      "34    66      Lynne Ramsay                                         Ratcatcher   \n",
      "57    43     Sofia Coppola                                The Virgin Suicides   \n",
      "69    31       Agnès Varda                                 The Gleaners and I   \n",
      "71    29         Mira Nair                                    Monsoon Wedding   \n",
      "85    15   Lucrecia Martel                                          The Swamp   \n",
      "66    34      Lynne Ramsay                                     Morvern Callar   \n",
      "95     5     Sofia Coppola                                Lost in Translation   \n",
      "7     93     Andrea Arnold                                           Red Road   \n",
      "37    63     Sofia Coppola                                   Marie Antoinette   \n",
      "93     7   Kathryn Bigelow                                    The Hurt Locker   \n",
      "11    89       Agnès Varda                               The Beaches of Agnes   \n",
      "13    87      Claire Denis                                    35 Shots of Rum   \n",
      "47    53   Lucrecia Martel                                 The Headless Woman   \n",
      "64    36   Kelly Reichardt                                     Wendy and Lucy   \n",
      "46    54      Jane Campion                                        Bright Star   \n",
      "91     9     Andrea Arnold                                          Fish Tank   \n",
      "9     91      Claire Denis                                     White Material   \n",
      "25    75   Kelly Reichardt                                      Meek’s Cutoff   \n",
      "2     98     Sofia Coppola                                          Somewhere   \n",
      "79    21      Debra Granik                                      Winter’s Bone   \n",
      "78    23      Lynne Ramsay                        We Need to Talk About Kevin   \n",
      "23    77    Céline Sciamma                                             Tomboy   \n",
      "88    12   Kathryn Bigelow                                   Zero Dark Thirty   \n",
      "24    76    Céline Sciamma                                           Girlhood   \n",
      "73    27      Ava DuVernay                                              Selma   \n",
      "56    44     Andrea Arnold                                     American Honey   \n",
      "44    56      Ava DuVernay                                               13th   \n",
      "70    30   Lucrecia Martel                                               Zama   \n",
      "67    33      Lynne Ramsay                         You Were Never Really Here   \n",
      "35    65      Debra Granik                                     Leave no Trace   \n",
      "61    39    Céline Sciamma                         Portrait of a Lady on Fire   \n",
      "\n",
      "    year  decade  \n",
      "55  1935    1930  \n",
      "63  1938    1930  \n",
      "18  1944    1940  \n",
      "5   1946    1940  \n",
      "50  1950    1950  \n",
      "77  1953    1950  \n",
      "31  1961    1960  \n",
      "98  1962    1960  \n",
      "72  1965    1960  \n",
      "16  1967    1960  \n",
      "41  1971    1970  \n",
      "97  1975    1970  \n",
      "15  1977    1970  \n",
      "6   1977    1970  \n",
      "4   1977    1970  \n",
      "10  1982    1980  \n",
      "87  1985    1980  \n",
      "54  1987    1980  \n",
      "51  1988    1980  \n",
      "20  1988    1980  \n",
      "26  1988    1980  \n",
      "52  1989    1980  \n",
      "53  1990    1990  \n",
      "86  1991    1990  \n",
      "40  1992    1990  \n",
      "99  1993    1990  \n",
      "38  1995    1990  \n",
      "80  1995    1990  \n",
      "96  1999    1990  \n",
      "34  1999    1990  \n",
      "57  1999    1990  \n",
      "69  2000    2000  \n",
      "71  2001    2000  \n",
      "85  2001    2000  \n",
      "66  2002    2000  \n",
      "95  2003    2000  \n",
      "7   2006    2000  \n",
      "37  2006    2000  \n",
      "93  2008    2000  \n",
      "11  2008    2000  \n",
      "13  2008    2000  \n",
      "47  2008    2000  \n",
      "64  2008    2000  \n",
      "46  2009    2000  \n",
      "91  2009    2000  \n",
      "9   2009    2000  \n",
      "25  2010    2010  \n",
      "2   2010    2010  \n",
      "79  2010    2010  \n",
      "78  2011    2010  \n",
      "23  2011    2010  \n",
      "88  2012    2010  \n",
      "24  2014    2010  \n",
      "73  2014    2010  \n",
      "56  2016    2010  \n",
      "44  2016    2010  \n",
      "70  2017    2010  \n",
      "67  2017    2010  \n",
      "35  2018    2010  \n",
      "61  2019    2010  \n"
     ]
    },
    {
     "name": "stderr",
     "output_type": "stream",
     "text": [
      "<ipython-input-15-9841ecc6af5b>:3: SettingWithCopyWarning: \n",
      "A value is trying to be set on a copy of a slice from a DataFrame\n",
      "\n",
      "See the caveats in the documentation: https://pandas.pydata.org/pandas-docs/stable/user_guide/indexing.html#returning-a-view-versus-a-copy\n",
      "  new_df.sort_values('year', inplace=True)\n"
     ]
    }
   ],
   "source": [
    "women = ['Agnès Varda', 'Kathryn Bigelow', 'Lynne Ramsay', 'Sofia Coppola', 'Claire Denis', 'Céline Sciamma', 'Chantal Akerman', 'Andrea Arnold', 'Lucrecia Martel', 'Jane Campion', 'Mira Nair', 'Leni Riefenstahl', 'Amy Heckerling', 'Penny Marshall', 'Maya Deren', 'Ida Lupino', 'Kira Muratova', 'Kelly Reichardt', 'Debra Granik', 'Ava DuVernay', 'Shirley Clarke']\n",
    "new_df = movies_df[movies_df.director.isin(women)]\n",
    "new_df.sort_values('year', inplace=True)\n",
    "print(new_df)"
   ]
  },
  {
   "cell_type": "markdown",
   "metadata": {},
   "source": [
    "I am creating a list of the decades in order so that I can use it in the bar chart as the x-axis"
   ]
  },
  {
   "cell_type": "code",
   "execution_count": 16,
   "metadata": {},
   "outputs": [
    {
     "data": {
      "text/plain": [
       "[1910, 1920, 1930, 1940, 1950, 1960, 1970, 1980, 1990, 2000, 2010]"
      ]
     },
     "execution_count": 16,
     "metadata": {},
     "output_type": "execute_result"
    }
   ],
   "source": [
    "decades_list = movies_df.decade.unique() #finding all the decades that occur\n",
    "decades_list.sort() #sorting the decades in order\n",
    "decades_list.tolist() #turning it into a list to use in the bar chart"
   ]
  },
  {
   "cell_type": "markdown",
   "metadata": {},
   "source": [
    "I am also creating a list of the movies that were released in every decade for the y-axis "
   ]
  },
  {
   "cell_type": "code",
   "execution_count": 17,
   "metadata": {},
   "outputs": [
    {
     "data": {
      "text/plain": [
       "[1, 2, 2, 2, 2, 6, 10, 12, 18, 18, 27]"
      ]
     },
     "execution_count": 17,
     "metadata": {},
     "output_type": "execute_result"
    }
   ],
   "source": [
    "num_movies = movies_df.decade.value_counts(ascending=True) #ordering the decades\n",
    "movie_nums = num_movies.values\n",
    "movie_nums.tolist() #turning it into list to use in the bar chart"
   ]
  },
  {
   "cell_type": "markdown",
   "metadata": {},
   "source": [
    "Then, I created a Matplotlib bar chart to show the total number of movies for each decade."
   ]
  },
  {
   "cell_type": "code",
   "execution_count": 18,
   "metadata": {},
   "outputs": [
    {
     "data": {
      "image/png": "[encoded data removed]",
      "text/plain": [
       "<Figure size 432x288 with 1 Axes>"
      ]
     },
     "metadata": {
      "needs_background": "light"
     },
     "output_type": "display_data"
    }
   ],
   "source": [
    "# data\n",
    "decades = [1910, 1920, 1930, 1940, 1950, 1960, 1970, 1980, 1990, 2000, 2010]\n",
    "numMovies = [1, 2, 2, 2, 2, 6, 10, 12, 18, 18, 27]\n",
    "\n",
    "plt.bar(decades, numMovies, 8)\n",
    "plt.ylabel(\"Movie Count\")\n",
    "plt.xlabel(\"Decades\")\n",
    "plt.title(\"Number of Movies by Decade\")\n",
    "plt.show()"
   ]
  },
  {
   "cell_type": "markdown",
   "metadata": {},
   "source": [
    "Task 3: Use Plotly to generate the graph below that shows the span of the career for these women by plotting in a line all their movies in our list. The directors are ordered by their earliest work. "
   ]
  },
  {
   "cell_type": "code",
   "execution_count": 20,
   "metadata": {},
   "outputs": [
    {
     "data": {
      "application/vnd.plotly.v1+json": {
       "config": {
        "plotlyServerURL": "https://plot.ly"
       },
       "data": [
        {
         "hovertemplate": "movie=Triumph of the Will<br>year=%{x}<br>director=%{y}<extra></extra>",
         "legendgroup": "Triumph of the Will",
         "marker": {
          "color": "#636efa",
          "symbol": "circle"
         },
         "mode": "markers",
         "name": "Triumph of the Will",
         "orientation": "h",
         "showlegend": true,
         "type": "scatter",
         "x": [
          1935
         ],
         "xaxis": "x",
         "y": [
          "Leni Riefenstahl"
         ],
         "yaxis": "y"
        },
        {
         "hovertemplate": "movie=Olympia<br>year=%{x}<br>director=%{y}<extra></extra>",
         "legendgroup": "Olympia",
         "marker": {
          "color": "#EF553B",
          "symbol": "circle"
         },
         "mode": "markers",
         "name": "Olympia",
         "orientation": "h",
         "showlegend": true,
         "type": "scatter",
         "x": [
          1938
         ],
         "xaxis": "x",
         "y": [
          "Leni Riefenstahl"
         ],
         "yaxis": "y"
        },
        {
         "hovertemplate": "movie=At Land<br>year=%{x}<br>director=%{y}<extra></extra>",
         "legendgroup": "At Land",
         "marker": {
          "color": "#00cc96",
          "symbol": "circle"
         },
         "mode": "markers",
         "name": "At Land",
         "orientation": "h",
         "showlegend": true,
         "type": "scatter",
         "x": [
          1944
         ],
         "xaxis": "x",
         "y": [
          "Maya Deren"
         ],
         "yaxis": "y"
        },
        {
         "hovertemplate": "movie=Ritual in Transfigured Time<br>year=%{x}<br>director=%{y}<extra></extra>",
         "legendgroup": "Ritual in Transfigured Time",
         "marker": {
          "color": "#ab63fa",
          "symbol": "circle"
         },
         "mode": "markers",
         "name": "Ritual in Transfigured Time",
         "orientation": "h",
         "showlegend": true,
         "type": "scatter",
         "x": [
          1946
         ],
         "xaxis": "x",
         "y": [
          "Maya Deren"
         ],
         "yaxis": "y"
        },
        {
         "hovertemplate": "movie=Outrage<br>year=%{x}<br>director=%{y}<extra></extra>",
         "legendgroup": "Outrage",
         "marker": {
          "color": "#FFA15A",
          "symbol": "circle"
         },
         "mode": "markers",
         "name": "Outrage",
         "orientation": "h",
         "showlegend": true,
         "type": "scatter",
         "x": [
          1950
         ],
         "xaxis": "x",
         "y": [
          "Ida Lupino"
         ],
         "yaxis": "y"
        },
        {
         "hovertemplate": "movie=The Hitch-Hiker<br>year=%{x}<br>director=%{y}<extra></extra>",
         "legendgroup": "The Hitch-Hiker",
         "marker": {
          "color": "#19d3f3",
          "symbol": "circle"
         },
         "mode": "markers",
         "name": "The Hitch-Hiker",
         "orientation": "h",
         "showlegend": true,
         "type": "scatter",
         "x": [
          1953
         ],
         "xaxis": "x",
         "y": [
          "Ida Lupino"
         ],
         "yaxis": "y"
        },
        {
         "hovertemplate": "movie=The Connection<br>year=%{x}<br>director=%{y}<extra></extra>",
         "legendgroup": "The Connection",
         "marker": {
          "color": "#FF6692",
          "symbol": "circle"
         },
         "mode": "markers",
         "name": "The Connection",
         "orientation": "h",
         "showlegend": true,
         "type": "scatter",
         "x": [
          1961
         ],
         "xaxis": "x",
         "y": [
          "Shirley Clarke"
         ],
         "yaxis": "y"
        },
        {
         "hovertemplate": "movie=Cléo from 5 to 7<br>year=%{x}<br>director=%{y}<extra></extra>",
         "legendgroup": "Cléo from 5 to 7",
         "marker": {
          "color": "#B6E880",
          "symbol": "circle"
         },
         "mode": "markers",
         "name": "Cléo from 5 to 7",
         "orientation": "h",
         "showlegend": true,
         "type": "scatter",
         "x": [
          1962
         ],
         "xaxis": "x",
         "y": [
          "Agnès Varda"
         ],
         "yaxis": "y"
        },
        {
         "hovertemplate": "movie=Le Bonheur<br>year=%{x}<br>director=%{y}<extra></extra>",
         "legendgroup": "Le Bonheur",
         "marker": {
          "color": "#FF97FF",
          "symbol": "circle"
         },
         "mode": "markers",
         "name": "Le Bonheur",
         "orientation": "h",
         "showlegend": true,
         "type": "scatter",
         "x": [
          1965
         ],
         "xaxis": "x",
         "y": [
          "Agnès Varda"
         ],
         "yaxis": "y"
        },
        {
         "hovertemplate": "movie=Portrait of Jason<br>year=%{x}<br>director=%{y}<extra></extra>",
         "legendgroup": "Portrait of Jason",
         "marker": {
          "color": "#FECB52",
          "symbol": "circle"
         },
         "mode": "markers",
         "name": "Portrait of Jason",
         "orientation": "h",
         "showlegend": true,
         "type": "scatter",
         "x": [
          1967
         ],
         "xaxis": "x",
         "y": [
          "Shirley Clarke"
         ],
         "yaxis": "y"
        },
        {
         "hovertemplate": "movie=The Long Farewell<br>year=%{x}<br>director=%{y}<extra></extra>",
         "legendgroup": "The Long Farewell",
         "marker": {
          "color": "#636efa",
          "symbol": "circle"
         },
         "mode": "markers",
         "name": "The Long Farewell",
         "orientation": "h",
         "showlegend": true,
         "type": "scatter",
         "x": [
          1971
         ],
         "xaxis": "x",
         "y": [
          "Kira Muratova"
         ],
         "yaxis": "y"
        },
        {
         "hovertemplate": "movie=Jeanne Dielman, 23 Quai du Commerce, 1080 Bruxelles<br>year=%{x}<br>director=%{y}<extra></extra>",
         "legendgroup": "Jeanne Dielman, 23 Quai du Commerce, 1080 Bruxelles",
         "marker": {
          "color": "#EF553B",
          "symbol": "circle"
         },
         "mode": "markers",
         "name": "Jeanne Dielman, 23 Quai du Commerce, 1080 Bruxelles",
         "orientation": "h",
         "showlegend": true,
         "type": "scatter",
         "x": [
          1975
         ],
         "xaxis": "x",
         "y": [
          "Chantal Akerman"
         ],
         "yaxis": "y"
        },
        {
         "hovertemplate": "movie=One Sings, The Other Doesn’t<br>year=%{x}<br>director=%{y}<extra></extra>",
         "legendgroup": "One Sings, The Other Doesn’t",
         "marker": {
          "color": "#00cc96",
          "symbol": "circle"
         },
         "mode": "markers",
         "name": "One Sings, The Other Doesn’t",
         "orientation": "h",
         "showlegend": true,
         "type": "scatter",
         "x": [
          1977
         ],
         "xaxis": "x",
         "y": [
          "Agnès Varda"
         ],
         "yaxis": "y"
        },
        {
         "hovertemplate": "movie=News From Home<br>year=%{x}<br>director=%{y}<extra></extra>",
         "legendgroup": "News From Home",
         "marker": {
          "color": "#ab63fa",
          "symbol": "circle"
         },
         "mode": "markers",
         "name": "News From Home",
         "orientation": "h",
         "showlegend": true,
         "type": "scatter",
         "x": [
          1977
         ],
         "xaxis": "x",
         "y": [
          "Chantal Akerman"
         ],
         "yaxis": "y"
        },
        {
         "hovertemplate": "movie=The Meetings of Anna<br>year=%{x}<br>director=%{y}<extra></extra>",
         "legendgroup": "The Meetings of Anna",
         "marker": {
          "color": "#FFA15A",
          "symbol": "circle"
         },
         "mode": "markers",
         "name": "The Meetings of Anna",
         "orientation": "h",
         "showlegend": true,
         "type": "scatter",
         "x": [
          1977
         ],
         "xaxis": "x",
         "y": [
          "Chantal Akerman"
         ],
         "yaxis": "y"
        },
        {
         "hovertemplate": "movie=Fast Times at Ridgemont High<br>year=%{x}<br>director=%{y}<extra></extra>",
         "legendgroup": "Fast Times at Ridgemont High",
         "marker": {
          "color": "#19d3f3",
          "symbol": "circle"
         },
         "mode": "markers",
         "name": "Fast Times at Ridgemont High",
         "orientation": "h",
         "showlegend": true,
         "type": "scatter",
         "x": [
          1982
         ],
         "xaxis": "x",
         "y": [
          "Amy Heckerling"
         ],
         "yaxis": "y"
        },
        {
         "hovertemplate": "movie=Vagabond<br>year=%{x}<br>director=%{y}<extra></extra>",
         "legendgroup": "Vagabond",
         "marker": {
          "color": "#FF6692",
          "symbol": "circle"
         },
         "mode": "markers",
         "name": "Vagabond",
         "orientation": "h",
         "showlegend": true,
         "type": "scatter",
         "x": [
          1985
         ],
         "xaxis": "x",
         "y": [
          "Agnès Varda"
         ],
         "yaxis": "y"
        },
        {
         "hovertemplate": "movie=Near Dark<br>year=%{x}<br>director=%{y}<extra></extra>",
         "legendgroup": "Near Dark",
         "marker": {
          "color": "#B6E880",
          "symbol": "circle"
         },
         "mode": "markers",
         "name": "Near Dark",
         "orientation": "h",
         "showlegend": true,
         "type": "scatter",
         "x": [
          1987
         ],
         "xaxis": "x",
         "y": [
          "Kathryn Bigelow"
         ],
         "yaxis": "y"
        },
        {
         "hovertemplate": "movie=Salaam Bombay!<br>year=%{x}<br>director=%{y}<extra></extra>",
         "legendgroup": "Salaam Bombay!",
         "marker": {
          "color": "#FF97FF",
          "symbol": "circle"
         },
         "mode": "markers",
         "name": "Salaam Bombay!",
         "orientation": "h",
         "showlegend": true,
         "type": "scatter",
         "x": [
          1988
         ],
         "xaxis": "x",
         "y": [
          "Mira Nair"
         ],
         "yaxis": "y"
        },
        {
         "hovertemplate": "movie=Big<br>year=%{x}<br>director=%{y}<extra></extra>",
         "legendgroup": "Big",
         "marker": {
          "color": "#FECB52",
          "symbol": "circle"
         },
         "mode": "markers",
         "name": "Big",
         "orientation": "h",
         "showlegend": true,
         "type": "scatter",
         "x": [
          1988
         ],
         "xaxis": "x",
         "y": [
          "Penny Marshall"
         ],
         "yaxis": "y"
        },
        {
         "hovertemplate": "movie=Chocolat<br>year=%{x}<br>director=%{y}<extra></extra>",
         "legendgroup": "Chocolat",
         "marker": {
          "color": "#636efa",
          "symbol": "circle"
         },
         "mode": "markers",
         "name": "Chocolat",
         "orientation": "h",
         "showlegend": true,
         "type": "scatter",
         "x": [
          1988
         ],
         "xaxis": "x",
         "y": [
          "Claire Denis"
         ],
         "yaxis": "y"
        },
        {
         "hovertemplate": "movie=The Asthenic Syndrome<br>year=%{x}<br>director=%{y}<extra></extra>",
         "legendgroup": "The Asthenic Syndrome",
         "marker": {
          "color": "#EF553B",
          "symbol": "circle"
         },
         "mode": "markers",
         "name": "The Asthenic Syndrome",
         "orientation": "h",
         "showlegend": true,
         "type": "scatter",
         "x": [
          1989
         ],
         "xaxis": "x",
         "y": [
          "Kira Muratova"
         ],
         "yaxis": "y"
        },
        {
         "hovertemplate": "movie=An Angel at my Table<br>year=%{x}<br>director=%{y}<extra></extra>",
         "legendgroup": "An Angel at my Table",
         "marker": {
          "color": "#00cc96",
          "symbol": "circle"
         },
         "mode": "markers",
         "name": "An Angel at my Table",
         "orientation": "h",
         "showlegend": true,
         "type": "scatter",
         "x": [
          1990
         ],
         "xaxis": "x",
         "y": [
          "Jane Campion"
         ],
         "yaxis": "y"
        },
        {
         "hovertemplate": "movie=Point Break<br>year=%{x}<br>director=%{y}<extra></extra>",
         "legendgroup": "Point Break",
         "marker": {
          "color": "#ab63fa",
          "symbol": "circle"
         },
         "mode": "markers",
         "name": "Point Break",
         "orientation": "h",
         "showlegend": true,
         "type": "scatter",
         "x": [
          1991
         ],
         "xaxis": "x",
         "y": [
          "Kathryn Bigelow"
         ],
         "yaxis": "y"
        },
        {
         "hovertemplate": "movie=A League of their Own<br>year=%{x}<br>director=%{y}<extra></extra>",
         "legendgroup": "A League of their Own",
         "marker": {
          "color": "#FFA15A",
          "symbol": "circle"
         },
         "mode": "markers",
         "name": "A League of their Own",
         "orientation": "h",
         "showlegend": true,
         "type": "scatter",
         "x": [
          1992
         ],
         "xaxis": "x",
         "y": [
          "Penny Marshall"
         ],
         "yaxis": "y"
        },
        {
         "hovertemplate": "movie=The Piano<br>year=%{x}<br>director=%{y}<extra></extra>",
         "legendgroup": "The Piano",
         "marker": {
          "color": "#19d3f3",
          "symbol": "circle"
         },
         "mode": "markers",
         "name": "The Piano",
         "orientation": "h",
         "showlegend": true,
         "type": "scatter",
         "x": [
          1993
         ],
         "xaxis": "x",
         "y": [
          "Jane Campion"
         ],
         "yaxis": "y"
        },
        {
         "hovertemplate": "movie=Strange Days<br>year=%{x}<br>director=%{y}<extra></extra>",
         "legendgroup": "Strange Days",
         "marker": {
          "color": "#FF6692",
          "symbol": "circle"
         },
         "mode": "markers",
         "name": "Strange Days",
         "orientation": "h",
         "showlegend": true,
         "type": "scatter",
         "x": [
          1995
         ],
         "xaxis": "x",
         "y": [
          "Kathryn Bigelow"
         ],
         "yaxis": "y"
        },
        {
         "hovertemplate": "movie=Clueless<br>year=%{x}<br>director=%{y}<extra></extra>",
         "legendgroup": "Clueless",
         "marker": {
          "color": "#B6E880",
          "symbol": "circle"
         },
         "mode": "markers",
         "name": "Clueless",
         "orientation": "h",
         "showlegend": true,
         "type": "scatter",
         "x": [
          1995
         ],
         "xaxis": "x",
         "y": [
          "Amy Heckerling"
         ],
         "yaxis": "y"
        },
        {
         "hovertemplate": "movie=Beau Travail<br>year=%{x}<br>director=%{y}<extra></extra>",
         "legendgroup": "Beau Travail",
         "marker": {
          "color": "#FF97FF",
          "symbol": "circle"
         },
         "mode": "markers",
         "name": "Beau Travail",
         "orientation": "h",
         "showlegend": true,
         "type": "scatter",
         "x": [
          1999
         ],
         "xaxis": "x",
         "y": [
          "Claire Denis"
         ],
         "yaxis": "y"
        },
        {
         "hovertemplate": "movie=Ratcatcher<br>year=%{x}<br>director=%{y}<extra></extra>",
         "legendgroup": "Ratcatcher",
         "marker": {
          "color": "#FECB52",
          "symbol": "circle"
         },
         "mode": "markers",
         "name": "Ratcatcher",
         "orientation": "h",
         "showlegend": true,
         "type": "scatter",
         "x": [
          1999
         ],
         "xaxis": "x",
         "y": [
          "Lynne Ramsay"
         ],
         "yaxis": "y"
        },
        {
         "hovertemplate": "movie=The Virgin Suicides<br>year=%{x}<br>director=%{y}<extra></extra>",
         "legendgroup": "The Virgin Suicides",
         "marker": {
          "color": "#636efa",
          "symbol": "circle"
         },
         "mode": "markers",
         "name": "The Virgin Suicides",
         "orientation": "h",
         "showlegend": true,
         "type": "scatter",
         "x": [
          1999
         ],
         "xaxis": "x",
         "y": [
          "Sofia Coppola"
         ],
         "yaxis": "y"
        },
        {
         "hovertemplate": "movie=The Gleaners and I<br>year=%{x}<br>director=%{y}<extra></extra>",
         "legendgroup": "The Gleaners and I",
         "marker": {
          "color": "#EF553B",
          "symbol": "circle"
         },
         "mode": "markers",
         "name": "The Gleaners and I",
         "orientation": "h",
         "showlegend": true,
         "type": "scatter",
         "x": [
          2000
         ],
         "xaxis": "x",
         "y": [
          "Agnès Varda"
         ],
         "yaxis": "y"
        },
        {
         "hovertemplate": "movie=Monsoon Wedding<br>year=%{x}<br>director=%{y}<extra></extra>",
         "legendgroup": "Monsoon Wedding",
         "marker": {
          "color": "#00cc96",
          "symbol": "circle"
         },
         "mode": "markers",
         "name": "Monsoon Wedding",
         "orientation": "h",
         "showlegend": true,
         "type": "scatter",
         "x": [
          2001
         ],
         "xaxis": "x",
         "y": [
          "Mira Nair"
         ],
         "yaxis": "y"
        },
        {
         "hovertemplate": "movie=The Swamp<br>year=%{x}<br>director=%{y}<extra></extra>",
         "legendgroup": "The Swamp",
         "marker": {
          "color": "#ab63fa",
          "symbol": "circle"
         },
         "mode": "markers",
         "name": "The Swamp",
         "orientation": "h",
         "showlegend": true,
         "type": "scatter",
         "x": [
          2001
         ],
         "xaxis": "x",
         "y": [
          "Lucrecia Martel"
         ],
         "yaxis": "y"
        },
        {
         "hovertemplate": "movie=Morvern Callar<br>year=%{x}<br>director=%{y}<extra></extra>",
         "legendgroup": "Morvern Callar",
         "marker": {
          "color": "#FFA15A",
          "symbol": "circle"
         },
         "mode": "markers",
         "name": "Morvern Callar",
         "orientation": "h",
         "showlegend": true,
         "type": "scatter",
         "x": [
          2002
         ],
         "xaxis": "x",
         "y": [
          "Lynne Ramsay"
         ],
         "yaxis": "y"
        },
        {
         "hovertemplate": "movie=Lost in Translation<br>year=%{x}<br>director=%{y}<extra></extra>",
         "legendgroup": "Lost in Translation",
         "marker": {
          "color": "#19d3f3",
          "symbol": "circle"
         },
         "mode": "markers",
         "name": "Lost in Translation",
         "orientation": "h",
         "showlegend": true,
         "type": "scatter",
         "x": [
          2003
         ],
         "xaxis": "x",
         "y": [
          "Sofia Coppola"
         ],
         "yaxis": "y"
        },
        {
         "hovertemplate": "movie=Red Road<br>year=%{x}<br>director=%{y}<extra></extra>",
         "legendgroup": "Red Road",
         "marker": {
          "color": "#FF6692",
          "symbol": "circle"
         },
         "mode": "markers",
         "name": "Red Road",
         "orientation": "h",
         "showlegend": true,
         "type": "scatter",
         "x": [
          2006
         ],
         "xaxis": "x",
         "y": [
          "Andrea Arnold"
         ],
         "yaxis": "y"
        },
        {
         "hovertemplate": "movie=Marie Antoinette<br>year=%{x}<br>director=%{y}<extra></extra>",
         "legendgroup": "Marie Antoinette",
         "marker": {
          "color": "#B6E880",
          "symbol": "circle"
         },
         "mode": "markers",
         "name": "Marie Antoinette",
         "orientation": "h",
         "showlegend": true,
         "type": "scatter",
         "x": [
          2006
         ],
         "xaxis": "x",
         "y": [
          "Sofia Coppola"
         ],
         "yaxis": "y"
        },
        {
         "hovertemplate": "movie=The Hurt Locker<br>year=%{x}<br>director=%{y}<extra></extra>",
         "legendgroup": "The Hurt Locker",
         "marker": {
          "color": "#FF97FF",
          "symbol": "circle"
         },
         "mode": "markers",
         "name": "The Hurt Locker",
         "orientation": "h",
         "showlegend": true,
         "type": "scatter",
         "x": [
          2008
         ],
         "xaxis": "x",
         "y": [
          "Kathryn Bigelow"
         ],
         "yaxis": "y"
        },
        {
         "hovertemplate": "movie=The Beaches of Agnes<br>year=%{x}<br>director=%{y}<extra></extra>",
         "legendgroup": "The Beaches of Agnes",
         "marker": {
          "color": "#FECB52",
          "symbol": "circle"
         },
         "mode": "markers",
         "name": "The Beaches of Agnes",
         "orientation": "h",
         "showlegend": true,
         "type": "scatter",
         "x": [
          2008
         ],
         "xaxis": "x",
         "y": [
          "Agnès Varda"
         ],
         "yaxis": "y"
        },
        {
         "hovertemplate": "movie=35 Shots of Rum<br>year=%{x}<br>director=%{y}<extra></extra>",
         "legendgroup": "35 Shots of Rum",
         "marker": {
          "color": "#636efa",
          "symbol": "circle"
         },
         "mode": "markers",
         "name": "35 Shots of Rum",
         "orientation": "h",
         "showlegend": true,
         "type": "scatter",
         "x": [
          2008
         ],
         "xaxis": "x",
         "y": [
          "Claire Denis"
         ],
         "yaxis": "y"
        },
        {
         "hovertemplate": "movie=The Headless Woman<br>year=%{x}<br>director=%{y}<extra></extra>",
         "legendgroup": "The Headless Woman",
         "marker": {
          "color": "#EF553B",
          "symbol": "circle"
         },
         "mode": "markers",
         "name": "The Headless Woman",
         "orientation": "h",
         "showlegend": true,
         "type": "scatter",
         "x": [
          2008
         ],
         "xaxis": "x",
         "y": [
          "Lucrecia Martel"
         ],
         "yaxis": "y"
        },
        {
         "hovertemplate": "movie=Wendy and Lucy<br>year=%{x}<br>director=%{y}<extra></extra>",
         "legendgroup": "Wendy and Lucy",
         "marker": {
          "color": "#00cc96",
          "symbol": "circle"
         },
         "mode": "markers",
         "name": "Wendy and Lucy",
         "orientation": "h",
         "showlegend": true,
         "type": "scatter",
         "x": [
          2008
         ],
         "xaxis": "x",
         "y": [
          "Kelly Reichardt"
         ],
         "yaxis": "y"
        },
        {
         "hovertemplate": "movie=Bright Star<br>year=%{x}<br>director=%{y}<extra></extra>",
         "legendgroup": "Bright Star",
         "marker": {
          "color": "#ab63fa",
          "symbol": "circle"
         },
         "mode": "markers",
         "name": "Bright Star",
         "orientation": "h",
         "showlegend": true,
         "type": "scatter",
         "x": [
          2009
         ],
         "xaxis": "x",
         "y": [
          "Jane Campion"
         ],
         "yaxis": "y"
        },
        {
         "hovertemplate": "movie=Fish Tank<br>year=%{x}<br>director=%{y}<extra></extra>",
         "legendgroup": "Fish Tank",
         "marker": {
          "color": "#FFA15A",
          "symbol": "circle"
         },
         "mode": "markers",
         "name": "Fish Tank",
         "orientation": "h",
         "showlegend": true,
         "type": "scatter",
         "x": [
          2009
         ],
         "xaxis": "x",
         "y": [
          "Andrea Arnold"
         ],
         "yaxis": "y"
        },
        {
         "hovertemplate": "movie=White Material<br>year=%{x}<br>director=%{y}<extra></extra>",
         "legendgroup": "White Material",
         "marker": {
          "color": "#19d3f3",
          "symbol": "circle"
         },
         "mode": "markers",
         "name": "White Material",
         "orientation": "h",
         "showlegend": true,
         "type": "scatter",
         "x": [
          2009
         ],
         "xaxis": "x",
         "y": [
          "Claire Denis"
         ],
         "yaxis": "y"
        },
        {
         "hovertemplate": "movie=Meek’s Cutoff<br>year=%{x}<br>director=%{y}<extra></extra>",
         "legendgroup": "Meek’s Cutoff",
         "marker": {
          "color": "#FF6692",
          "symbol": "circle"
         },
         "mode": "markers",
         "name": "Meek’s Cutoff",
         "orientation": "h",
         "showlegend": true,
         "type": "scatter",
         "x": [
          2010
         ],
         "xaxis": "x",
         "y": [
          "Kelly Reichardt"
         ],
         "yaxis": "y"
        },
        {
         "hovertemplate": "movie=Somewhere<br>year=%{x}<br>director=%{y}<extra></extra>",
         "legendgroup": "Somewhere",
         "marker": {
          "color": "#B6E880",
          "symbol": "circle"
         },
         "mode": "markers",
         "name": "Somewhere",
         "orientation": "h",
         "showlegend": true,
         "type": "scatter",
         "x": [
          2010
         ],
         "xaxis": "x",
         "y": [
          "Sofia Coppola"
         ],
         "yaxis": "y"
        },
        {
         "hovertemplate": "movie=Winter’s Bone<br>year=%{x}<br>director=%{y}<extra></extra>",
         "legendgroup": "Winter’s Bone",
         "marker": {
          "color": "#FF97FF",
          "symbol": "circle"
         },
         "mode": "markers",
         "name": "Winter’s Bone",
         "orientation": "h",
         "showlegend": true,
         "type": "scatter",
         "x": [
          2010
         ],
         "xaxis": "x",
         "y": [
          "Debra Granik"
         ],
         "yaxis": "y"
        },
        {
         "hovertemplate": "movie=We Need to Talk About Kevin<br>year=%{x}<br>director=%{y}<extra></extra>",
         "legendgroup": "We Need to Talk About Kevin",
         "marker": {
          "color": "#FECB52",
          "symbol": "circle"
         },
         "mode": "markers",
         "name": "We Need to Talk About Kevin",
         "orientation": "h",
         "showlegend": true,
         "type": "scatter",
         "x": [
          2011
         ],
         "xaxis": "x",
         "y": [
          "Lynne Ramsay"
         ],
         "yaxis": "y"
        },
        {
         "hovertemplate": "movie=Tomboy<br>year=%{x}<br>director=%{y}<extra></extra>",
         "legendgroup": "Tomboy",
         "marker": {
          "color": "#636efa",
          "symbol": "circle"
         },
         "mode": "markers",
         "name": "Tomboy",
         "orientation": "h",
         "showlegend": true,
         "type": "scatter",
         "x": [
          2011
         ],
         "xaxis": "x",
         "y": [
          "Céline Sciamma"
         ],
         "yaxis": "y"
        },
        {
         "hovertemplate": "movie=Zero Dark Thirty<br>year=%{x}<br>director=%{y}<extra></extra>",
         "legendgroup": "Zero Dark Thirty",
         "marker": {
          "color": "#EF553B",
          "symbol": "circle"
         },
         "mode": "markers",
         "name": "Zero Dark Thirty",
         "orientation": "h",
         "showlegend": true,
         "type": "scatter",
         "x": [
          2012
         ],
         "xaxis": "x",
         "y": [
          "Kathryn Bigelow"
         ],
         "yaxis": "y"
        },
        {
         "hovertemplate": "movie=Girlhood<br>year=%{x}<br>director=%{y}<extra></extra>",
         "legendgroup": "Girlhood",
         "marker": {
          "color": "#00cc96",
          "symbol": "circle"
         },
         "mode": "markers",
         "name": "Girlhood",
         "orientation": "h",
         "showlegend": true,
         "type": "scatter",
         "x": [
          2014
         ],
         "xaxis": "x",
         "y": [
          "Céline Sciamma"
         ],
         "yaxis": "y"
        },
        {
         "hovertemplate": "movie=Selma<br>year=%{x}<br>director=%{y}<extra></extra>",
         "legendgroup": "Selma",
         "marker": {
          "color": "#ab63fa",
          "symbol": "circle"
         },
         "mode": "markers",
         "name": "Selma",
         "orientation": "h",
         "showlegend": true,
         "type": "scatter",
         "x": [
          2014
         ],
         "xaxis": "x",
         "y": [
          "Ava DuVernay"
         ],
         "yaxis": "y"
        },
        {
         "hovertemplate": "movie=American Honey<br>year=%{x}<br>director=%{y}<extra></extra>",
         "legendgroup": "American Honey",
         "marker": {
          "color": "#FFA15A",
          "symbol": "circle"
         },
         "mode": "markers",
         "name": "American Honey",
         "orientation": "h",
         "showlegend": true,
         "type": "scatter",
         "x": [
          2016
         ],
         "xaxis": "x",
         "y": [
          "Andrea Arnold"
         ],
         "yaxis": "y"
        },
        {
         "hovertemplate": "movie=13th<br>year=%{x}<br>director=%{y}<extra></extra>",
         "legendgroup": "13th",
         "marker": {
          "color": "#19d3f3",
          "symbol": "circle"
         },
         "mode": "markers",
         "name": "13th",
         "orientation": "h",
         "showlegend": true,
         "type": "scatter",
         "x": [
          2016
         ],
         "xaxis": "x",
         "y": [
          "Ava DuVernay"
         ],
         "yaxis": "y"
        },
        {
         "hovertemplate": "movie=Zama<br>year=%{x}<br>director=%{y}<extra></extra>",
         "legendgroup": "Zama",
         "marker": {
          "color": "#FF6692",
          "symbol": "circle"
         },
         "mode": "markers",
         "name": "Zama",
         "orientation": "h",
         "showlegend": true,
         "type": "scatter",
         "x": [
          2017
         ],
         "xaxis": "x",
         "y": [
          "Lucrecia Martel"
         ],
         "yaxis": "y"
        },
        {
         "hovertemplate": "movie=You Were Never Really Here<br>year=%{x}<br>director=%{y}<extra></extra>",
         "legendgroup": "You Were Never Really Here",
         "marker": {
          "color": "#B6E880",
          "symbol": "circle"
         },
         "mode": "markers",
         "name": "You Were Never Really Here",
         "orientation": "h",
         "showlegend": true,
         "type": "scatter",
         "x": [
          2017
         ],
         "xaxis": "x",
         "y": [
          "Lynne Ramsay"
         ],
         "yaxis": "y"
        },
        {
         "hovertemplate": "movie=Leave no Trace<br>year=%{x}<br>director=%{y}<extra></extra>",
         "legendgroup": "Leave no Trace",
         "marker": {
          "color": "#FF97FF",
          "symbol": "circle"
         },
         "mode": "markers",
         "name": "Leave no Trace",
         "orientation": "h",
         "showlegend": true,
         "type": "scatter",
         "x": [
          2018
         ],
         "xaxis": "x",
         "y": [
          "Debra Granik"
         ],
         "yaxis": "y"
        },
        {
         "hovertemplate": "movie=Portrait of a Lady on Fire<br>year=%{x}<br>director=%{y}<extra></extra>",
         "legendgroup": "Portrait of a Lady on Fire",
         "marker": {
          "color": "#FECB52",
          "symbol": "circle"
         },
         "mode": "markers",
         "name": "Portrait of a Lady on Fire",
         "orientation": "h",
         "showlegend": true,
         "type": "scatter",
         "x": [
          2019
         ],
         "xaxis": "x",
         "y": [
          "Céline Sciamma"
         ],
         "yaxis": "y"
        }
       ],
       "layout": {
        "legend": {
         "title": {
          "text": "movie"
         },
         "tracegroupgap": 0
        },
        "margin": {
         "t": 60
        },
        "template": {
         "data": {
          "bar": [
           {
            "error_x": {
             "color": "#2a3f5f"
            },
            "error_y": {
             "color": "#2a3f5f"
            },
            "marker": {
             "line": {
              "color": "#E5ECF6",
              "width": 0.5
             },
             "pattern": {
              "fillmode": "overlay",
              "size": 10,
              "solidity": 0.2
             }
            },
            "type": "bar"
           }
          ],
          "barpolar": [
           {
            "marker": {
             "line": {
              "color": "#E5ECF6",
              "width": 0.5
             },
             "pattern": {
              "fillmode": "overlay",
              "size": 10,
              "solidity": 0.2
             }
            },
            "type": "barpolar"
           }
          ],
          "carpet": [
           {
            "aaxis": {
             "endlinecolor": "#2a3f5f",
             "gridcolor": "white",
             "linecolor": "white",
             "minorgridcolor": "white",
             "startlinecolor": "#2a3f5f"
            },
            "baxis": {
             "endlinecolor": "#2a3f5f",
             "gridcolor": "white",
             "linecolor": "white",
             "minorgridcolor": "white",
             "startlinecolor": "#2a3f5f"
            },
            "type": "carpet"
           }
          ],
          "choropleth": [
           {
            "colorbar": {
             "outlinewidth": 0,
             "ticks": ""
            },
            "type": "choropleth"
           }
          ],
          "contour": [
           {
            "colorbar": {
             "outlinewidth": 0,
             "ticks": ""
            },
            "colorscale": [
             [
              0,
              "#0d0887"
             ],
             [
              0.1111111111111111,
              "#46039f"
             ],
             [
              0.2222222222222222,
              "#7201a8"
             ],
             [
              0.3333333333333333,
              "#9c179e"
             ],
             [
              0.4444444444444444,
              "#bd3786"
             ],
             [
              0.5555555555555556,
              "#d8576b"
             ],
             [
              0.6666666666666666,
              "#ed7953"
             ],
             [
              0.7777777777777778,
              "#fb9f3a"
             ],
             [
              0.8888888888888888,
              "#fdca26"
             ],
             [
              1,
              "#f0f921"
             ]
            ],
            "type": "contour"
           }
          ],
          "contourcarpet": [
           {
            "colorbar": {
             "outlinewidth": 0,
             "ticks": ""
            },
            "type": "contourcarpet"
           }
          ],
          "heatmap": [
           {
            "colorbar": {
             "outlinewidth": 0,
             "ticks": ""
            },
            "colorscale": [
             [
              0,
              "#0d0887"
             ],
             [
              0.1111111111111111,
              "#46039f"
             ],
             [
              0.2222222222222222,
              "#7201a8"
             ],
             [
              0.3333333333333333,
              "#9c179e"
             ],
             [
              0.4444444444444444,
              "#bd3786"
             ],
             [
              0.5555555555555556,
              "#d8576b"
             ],
             [
              0.6666666666666666,
              "#ed7953"
             ],
             [
              0.7777777777777778,
              "#fb9f3a"
             ],
             [
              0.8888888888888888,
              "#fdca26"
             ],
             [
              1,
              "#f0f921"
             ]
            ],
            "type": "heatmap"
           }
          ],
          "heatmapgl": [
           {
            "colorbar": {
             "outlinewidth": 0,
             "ticks": ""
            },
            "colorscale": [
             [
              0,
              "#0d0887"
             ],
             [
              0.1111111111111111,
              "#46039f"
             ],
             [
              0.2222222222222222,
              "#7201a8"
             ],
             [
              0.3333333333333333,
              "#9c179e"
             ],
             [
              0.4444444444444444,
              "#bd3786"
             ],
             [
              0.5555555555555556,
              "#d8576b"
             ],
             [
              0.6666666666666666,
              "#ed7953"
             ],
             [
              0.7777777777777778,
              "#fb9f3a"
             ],
             [
              0.8888888888888888,
              "#fdca26"
             ],
             [
              1,
              "#f0f921"
             ]
            ],
            "type": "heatmapgl"
           }
          ],
          "histogram": [
           {
            "marker": {
             "pattern": {
              "fillmode": "overlay",
              "size": 10,
              "solidity": 0.2
             }
            },
            "type": "histogram"
           }
          ],
          "histogram2d": [
           {
            "colorbar": {
             "outlinewidth": 0,
             "ticks": ""
            },
            "colorscale": [
             [
              0,
              "#0d0887"
             ],
             [
              0.1111111111111111,
              "#46039f"
             ],
             [
              0.2222222222222222,
              "#7201a8"
             ],
             [
              0.3333333333333333,
              "#9c179e"
             ],
             [
              0.4444444444444444,
              "#bd3786"
             ],
             [
              0.5555555555555556,
              "#d8576b"
             ],
             [
              0.6666666666666666,
              "#ed7953"
             ],
             [
              0.7777777777777778,
              "#fb9f3a"
             ],
             [
              0.8888888888888888,
              "#fdca26"
             ],
             [
              1,
              "#f0f921"
             ]
            ],
            "type": "histogram2d"
           }
          ],
          "histogram2dcontour": [
           {
            "colorbar": {
             "outlinewidth": 0,
             "ticks": ""
            },
            "colorscale": [
             [
              0,
              "#0d0887"
             ],
             [
              0.1111111111111111,
              "#46039f"
             ],
             [
              0.2222222222222222,
              "#7201a8"
             ],
             [
              0.3333333333333333,
              "#9c179e"
             ],
             [
              0.4444444444444444,
              "#bd3786"
             ],
             [
              0.5555555555555556,
              "#d8576b"
             ],
             [
              0.6666666666666666,
              "#ed7953"
             ],
             [
              0.7777777777777778,
              "#fb9f3a"
             ],
             [
              0.8888888888888888,
              "#fdca26"
             ],
             [
              1,
              "#f0f921"
             ]
            ],
            "type": "histogram2dcontour"
           }
          ],
          "mesh3d": [
           {
            "colorbar": {
             "outlinewidth": 0,
             "ticks": ""
            },
            "type": "mesh3d"
           }
          ],
          "parcoords": [
           {
            "line": {
             "colorbar": {
              "outlinewidth": 0,
              "ticks": ""
             }
            },
            "type": "parcoords"
           }
          ],
          "pie": [
           {
            "automargin": true,
            "type": "pie"
           }
          ],
          "scatter": [
           {
            "marker": {
             "colorbar": {
              "outlinewidth": 0,
              "ticks": ""
             }
            },
            "type": "scatter"
           }
          ],
          "scatter3d": [
           {
            "line": {
             "colorbar": {
              "outlinewidth": 0,
              "ticks": ""
             }
            },
            "marker": {
             "colorbar": {
              "outlinewidth": 0,
              "ticks": ""
             }
            },
            "type": "scatter3d"
           }
          ],
          "scattercarpet": [
           {
            "marker": {
             "colorbar": {
              "outlinewidth": 0,
              "ticks": ""
             }
            },
            "type": "scattercarpet"
           }
          ],
          "scattergeo": [
           {
            "marker": {
             "colorbar": {
              "outlinewidth": 0,
              "ticks": ""
             }
            },
            "type": "scattergeo"
           }
          ],
          "scattergl": [
           {
            "marker": {
             "colorbar": {
              "outlinewidth": 0,
              "ticks": ""
             }
            },
            "type": "scattergl"
           }
          ],
          "scattermapbox": [
           {
            "marker": {
             "colorbar": {
              "outlinewidth": 0,
              "ticks": ""
             }
            },
            "type": "scattermapbox"
           }
          ],
          "scatterpolar": [
           {
            "marker": {
             "colorbar": {
              "outlinewidth": 0,
              "ticks": ""
             }
            },
            "type": "scatterpolar"
           }
          ],
          "scatterpolargl": [
           {
            "marker": {
             "colorbar": {
              "outlinewidth": 0,
              "ticks": ""
             }
            },
            "type": "scatterpolargl"
           }
          ],
          "scatterternary": [
           {
            "marker": {
             "colorbar": {
              "outlinewidth": 0,
              "ticks": ""
             }
            },
            "type": "scatterternary"
           }
          ],
          "surface": [
           {
            "colorbar": {
             "outlinewidth": 0,
             "ticks": ""
            },
            "colorscale": [
             [
              0,
              "#0d0887"
             ],
             [
              0.1111111111111111,
              "#46039f"
             ],
             [
              0.2222222222222222,
              "#7201a8"
             ],
             [
              0.3333333333333333,
              "#9c179e"
             ],
             [
              0.4444444444444444,
              "#bd3786"
             ],
             [
              0.5555555555555556,
              "#d8576b"
             ],
             [
              0.6666666666666666,
              "#ed7953"
             ],
             [
              0.7777777777777778,
              "#fb9f3a"
             ],
             [
              0.8888888888888888,
              "#fdca26"
             ],
             [
              1,
              "#f0f921"
             ]
            ],
            "type": "surface"
           }
          ],
          "table": [
           {
            "cells": {
             "fill": {
              "color": "#EBF0F8"
             },
             "line": {
              "color": "white"
             }
            },
            "header": {
             "fill": {
              "color": "#C8D4E3"
             },
             "line": {
              "color": "white"
             }
            },
            "type": "table"
           }
          ]
         },
         "layout": {
          "annotationdefaults": {
           "arrowcolor": "#2a3f5f",
           "arrowhead": 0,
           "arrowwidth": 1
          },
          "autotypenumbers": "strict",
          "coloraxis": {
           "colorbar": {
            "outlinewidth": 0,
            "ticks": ""
           }
          },
          "colorscale": {
           "diverging": [
            [
             0,
             "#8e0152"
            ],
            [
             0.1,
             "#c51b7d"
            ],
            [
             0.2,
             "#de77ae"
            ],
            [
             0.3,
             "#f1b6da"
            ],
            [
             0.4,
             "#fde0ef"
            ],
            [
             0.5,
             "#f7f7f7"
            ],
            [
             0.6,
             "#e6f5d0"
            ],
            [
             0.7,
             "#b8e186"
            ],
            [
             0.8,
             "#7fbc41"
            ],
            [
             0.9,
             "#4d9221"
            ],
            [
             1,
             "#276419"
            ]
           ],
           "sequential": [
            [
             0,
             "#0d0887"
            ],
            [
             0.1111111111111111,
             "#46039f"
            ],
            [
             0.2222222222222222,
             "#7201a8"
            ],
            [
             0.3333333333333333,
             "#9c179e"
            ],
            [
             0.4444444444444444,
             "#bd3786"
            ],
            [
             0.5555555555555556,
             "#d8576b"
            ],
            [
             0.6666666666666666,
             "#ed7953"
            ],
            [
             0.7777777777777778,
             "#fb9f3a"
            ],
            [
             0.8888888888888888,
             "#fdca26"
            ],
            [
             1,
             "#f0f921"
            ]
           ],
           "sequentialminus": [
            [
             0,
             "#0d0887"
            ],
            [
             0.1111111111111111,
             "#46039f"
            ],
            [
             0.2222222222222222,
             "#7201a8"
            ],
            [
             0.3333333333333333,
             "#9c179e"
            ],
            [
             0.4444444444444444,
             "#bd3786"
            ],
            [
             0.5555555555555556,
             "#d8576b"
            ],
            [
             0.6666666666666666,
             "#ed7953"
            ],
            [
             0.7777777777777778,
             "#fb9f3a"
            ],
            [
             0.8888888888888888,
             "#fdca26"
            ],
            [
             1,
             "#f0f921"
            ]
           ]
          },
          "colorway": [
           "#636efa",
           "#EF553B",
           "#00cc96",
           "#ab63fa",
           "#FFA15A",
           "#19d3f3",
           "#FF6692",
           "#B6E880",
           "#FF97FF",
           "#FECB52"
          ],
          "font": {
           "color": "#2a3f5f"
          },
          "geo": {
           "bgcolor": "white",
           "lakecolor": "white",
           "landcolor": "#E5ECF6",
           "showlakes": true,
           "showland": true,
           "subunitcolor": "white"
          },
          "hoverlabel": {
           "align": "left"
          },
          "hovermode": "closest",
          "mapbox": {
           "style": "light"
          },
          "paper_bgcolor": "white",
          "plot_bgcolor": "#E5ECF6",
          "polar": {
           "angularaxis": {
            "gridcolor": "white",
            "linecolor": "white",
            "ticks": ""
           },
           "bgcolor": "#E5ECF6",
           "radialaxis": {
            "gridcolor": "white",
            "linecolor": "white",
            "ticks": ""
           }
          },
          "scene": {
           "xaxis": {
            "backgroundcolor": "#E5ECF6",
            "gridcolor": "white",
            "gridwidth": 2,
            "linecolor": "white",
            "showbackground": true,
            "ticks": "",
            "zerolinecolor": "white"
           },
           "yaxis": {
            "backgroundcolor": "#E5ECF6",
            "gridcolor": "white",
            "gridwidth": 2,
            "linecolor": "white",
            "showbackground": true,
            "ticks": "",
            "zerolinecolor": "white"
           },
           "zaxis": {
            "backgroundcolor": "#E5ECF6",
            "gridcolor": "white",
            "gridwidth": 2,
            "linecolor": "white",
            "showbackground": true,
            "ticks": "",
            "zerolinecolor": "white"
           }
          },
          "shapedefaults": {
           "line": {
            "color": "#2a3f5f"
           }
          },
          "ternary": {
           "aaxis": {
            "gridcolor": "white",
            "linecolor": "white",
            "ticks": ""
           },
           "baxis": {
            "gridcolor": "white",
            "linecolor": "white",
            "ticks": ""
           },
           "bgcolor": "#E5ECF6",
           "caxis": {
            "gridcolor": "white",
            "linecolor": "white",
            "ticks": ""
           }
          },
          "title": {
           "x": 0.05
          },
          "xaxis": {
           "automargin": true,
           "gridcolor": "white",
           "linecolor": "white",
           "ticks": "",
           "title": {
            "standoff": 15
           },
           "zerolinecolor": "white",
           "zerolinewidth": 2
          },
          "yaxis": {
           "automargin": true,
           "gridcolor": "white",
           "linecolor": "white",
           "ticks": "",
           "title": {
            "standoff": 15
           },
           "zerolinecolor": "white",
           "zerolinewidth": 2
          }
         }
        },
        "xaxis": {
         "anchor": "y",
         "domain": [
          0,
          1
         ],
         "title": {
          "text": "year"
         }
        },
        "yaxis": {
         "anchor": "x",
         "domain": [
          0,
          1
         ],
         "title": {
          "text": "director"
         }
        }
       }
      },
      "text/html": [
       "<div>                            <div id=\"3a9d0a42-b311-482b-b703-8cfeceb211e6\" class=\"plotly-graph-div\" style=\"height:525px; width:100%;\"></div>            <script type=\"text/javascript\">                require([\"plotly\"], function(Plotly) {                    window.PLOTLYENV=window.PLOTLYENV || {};                                    if (document.getElementById(\"3a9d0a42-b311-482b-b703-8cfeceb211e6\")) {                    Plotly.newPlot(                        \"3a9d0a42-b311-482b-b703-8cfeceb211e6\",                        [{\"hovertemplate\":\"movie=Triumph of the Will<br>year=%{x}<br>director=%{y}<extra></extra>\",\"legendgroup\":\"Triumph of the Will\",\"marker\":{\"color\":\"#636efa\",\"symbol\":\"circle\"},\"mode\":\"markers\",\"name\":\"Triumph of the Will\",\"orientation\":\"h\",\"showlegend\":true,\"type\":\"scatter\",\"x\":[1935],\"xaxis\":\"x\",\"y\":[\"Leni Riefenstahl\"],\"yaxis\":\"y\"},{\"hovertemplate\":\"movie=Olympia<br>year=%{x}<br>director=%{y}<extra></extra>\",\"legendgroup\":\"Olympia\",\"marker\":{\"color\":\"#EF553B\",\"symbol\":\"circle\"},\"mode\":\"markers\",\"name\":\"Olympia\",\"orientation\":\"h\",\"showlegend\":true,\"type\":\"scatter\",\"x\":[1938],\"xaxis\":\"x\",\"y\":[\"Leni Riefenstahl\"],\"yaxis\":\"y\"},{\"hovertemplate\":\"movie=At Land<br>year=%{x}<br>director=%{y}<extra></extra>\",\"legendgroup\":\"At Land\",\"marker\":{\"color\":\"#00cc96\",\"symbol\":\"circle\"},\"mode\":\"markers\",\"name\":\"At Land\",\"orientation\":\"h\",\"showlegend\":true,\"type\":\"scatter\",\"x\":[1944],\"xaxis\":\"x\",\"y\":[\"Maya Deren\"],\"yaxis\":\"y\"},{\"hovertemplate\":\"movie=Ritual in Transfigured Time<br>year=%{x}<br>director=%{y}<extra></extra>\",\"legendgroup\":\"Ritual in Transfigured Time\",\"marker\":{\"color\":\"#ab63fa\",\"symbol\":\"circle\"},\"mode\":\"markers\",\"name\":\"Ritual in Transfigured Time\",\"orientation\":\"h\",\"showlegend\":true,\"type\":\"scatter\",\"x\":[1946],\"xaxis\":\"x\",\"y\":[\"Maya Deren\"],\"yaxis\":\"y\"},{\"hovertemplate\":\"movie=Outrage<br>year=%{x}<br>director=%{y}<extra></extra>\",\"legendgroup\":\"Outrage\",\"marker\":{\"color\":\"#FFA15A\",\"symbol\":\"circle\"},\"mode\":\"markers\",\"name\":\"Outrage\",\"orientation\":\"h\",\"showlegend\":true,\"type\":\"scatter\",\"x\":[1950],\"xaxis\":\"x\",\"y\":[\"Ida Lupino\"],\"yaxis\":\"y\"},{\"hovertemplate\":\"movie=The Hitch-Hiker<br>year=%{x}<br>director=%{y}<extra></extra>\",\"legendgroup\":\"The Hitch-Hiker\",\"marker\":{\"color\":\"#19d3f3\",\"symbol\":\"circle\"},\"mode\":\"markers\",\"name\":\"The Hitch-Hiker\",\"orientation\":\"h\",\"showlegend\":true,\"type\":\"scatter\",\"x\":[1953],\"xaxis\":\"x\",\"y\":[\"Ida Lupino\"],\"yaxis\":\"y\"},{\"hovertemplate\":\"movie=The Connection<br>year=%{x}<br>director=%{y}<extra></extra>\",\"legendgroup\":\"The Connection\",\"marker\":{\"color\":\"#FF6692\",\"symbol\":\"circle\"},\"mode\":\"markers\",\"name\":\"The Connection\",\"orientation\":\"h\",\"showlegend\":true,\"type\":\"scatter\",\"x\":[1961],\"xaxis\":\"x\",\"y\":[\"Shirley Clarke\"],\"yaxis\":\"y\"},{\"hovertemplate\":\"movie=Cl\\u00e9o from 5 to 7<br>year=%{x}<br>director=%{y}<extra></extra>\",\"legendgroup\":\"Cl\\u00e9o from 5 to 7\",\"marker\":{\"color\":\"#B6E880\",\"symbol\":\"circle\"},\"mode\":\"markers\",\"name\":\"Cl\\u00e9o from 5 to 7\",\"orientation\":\"h\",\"showlegend\":true,\"type\":\"scatter\",\"x\":[1962],\"xaxis\":\"x\",\"y\":[\"Agn\\u00e8s Varda\"],\"yaxis\":\"y\"},{\"hovertemplate\":\"movie=Le Bonheur<br>year=%{x}<br>director=%{y}<extra></extra>\",\"legendgroup\":\"Le Bonheur\",\"marker\":{\"color\":\"#FF97FF\",\"symbol\":\"circle\"},\"mode\":\"markers\",\"name\":\"Le Bonheur\",\"orientation\":\"h\",\"showlegend\":true,\"type\":\"scatter\",\"x\":[1965],\"xaxis\":\"x\",\"y\":[\"Agn\\u00e8s Varda\"],\"yaxis\":\"y\"},{\"hovertemplate\":\"movie=Portrait of Jason<br>year=%{x}<br>director=%{y}<extra></extra>\",\"legendgroup\":\"Portrait of Jason\",\"marker\":{\"color\":\"#FECB52\",\"symbol\":\"circle\"},\"mode\":\"markers\",\"name\":\"Portrait of Jason\",\"orientation\":\"h\",\"showlegend\":true,\"type\":\"scatter\",\"x\":[1967],\"xaxis\":\"x\",\"y\":[\"Shirley Clarke\"],\"yaxis\":\"y\"},{\"hovertemplate\":\"movie=The Long Farewell<br>year=%{x}<br>director=%{y}<extra></extra>\",\"legendgroup\":\"The Long Farewell\",\"marker\":{\"color\":\"#636efa\",\"symbol\":\"circle\"},\"mode\":\"markers\",\"name\":\"The Long Farewell\",\"orientation\":\"h\",\"showlegend\":true,\"type\":\"scatter\",\"x\":[1971],\"xaxis\":\"x\",\"y\":[\"Kira Muratova\"],\"yaxis\":\"y\"},{\"hovertemplate\":\"movie=Jeanne Dielman, 23 Quai du Commerce, 1080 Bruxelles<br>year=%{x}<br>director=%{y}<extra></extra>\",\"legendgroup\":\"Jeanne Dielman, 23 Quai du Commerce, 1080 Bruxelles\",\"marker\":{\"color\":\"#EF553B\",\"symbol\":\"circle\"},\"mode\":\"markers\",\"name\":\"Jeanne Dielman, 23 Quai du Commerce, 1080 Bruxelles\",\"orientation\":\"h\",\"showlegend\":true,\"type\":\"scatter\",\"x\":[1975],\"xaxis\":\"x\",\"y\":[\"Chantal Akerman\"],\"yaxis\":\"y\"},{\"hovertemplate\":\"movie=One Sings, The Other Doesn\\u2019t<br>year=%{x}<br>director=%{y}<extra></extra>\",\"legendgroup\":\"One Sings, The Other Doesn\\u2019t\",\"marker\":{\"color\":\"#00cc96\",\"symbol\":\"circle\"},\"mode\":\"markers\",\"name\":\"One Sings, The Other Doesn\\u2019t\",\"orientation\":\"h\",\"showlegend\":true,\"type\":\"scatter\",\"x\":[1977],\"xaxis\":\"x\",\"y\":[\"Agn\\u00e8s Varda\"],\"yaxis\":\"y\"},{\"hovertemplate\":\"movie=News From Home<br>year=%{x}<br>director=%{y}<extra></extra>\",\"legendgroup\":\"News From Home\",\"marker\":{\"color\":\"#ab63fa\",\"symbol\":\"circle\"},\"mode\":\"markers\",\"name\":\"News From Home\",\"orientation\":\"h\",\"showlegend\":true,\"type\":\"scatter\",\"x\":[1977],\"xaxis\":\"x\",\"y\":[\"Chantal Akerman\"],\"yaxis\":\"y\"},{\"hovertemplate\":\"movie=The Meetings of Anna<br>year=%{x}<br>director=%{y}<extra></extra>\",\"legendgroup\":\"The Meetings of Anna\",\"marker\":{\"color\":\"#FFA15A\",\"symbol\":\"circle\"},\"mode\":\"markers\",\"name\":\"The Meetings of Anna\",\"orientation\":\"h\",\"showlegend\":true,\"type\":\"scatter\",\"x\":[1977],\"xaxis\":\"x\",\"y\":[\"Chantal Akerman\"],\"yaxis\":\"y\"},{\"hovertemplate\":\"movie=Fast Times at Ridgemont High<br>year=%{x}<br>director=%{y}<extra></extra>\",\"legendgroup\":\"Fast Times at Ridgemont High\",\"marker\":{\"color\":\"#19d3f3\",\"symbol\":\"circle\"},\"mode\":\"markers\",\"name\":\"Fast Times at Ridgemont High\",\"orientation\":\"h\",\"showlegend\":true,\"type\":\"scatter\",\"x\":[1982],\"xaxis\":\"x\",\"y\":[\"Amy Heckerling\"],\"yaxis\":\"y\"},{\"hovertemplate\":\"movie=Vagabond<br>year=%{x}<br>director=%{y}<extra></extra>\",\"legendgroup\":\"Vagabond\",\"marker\":{\"color\":\"#FF6692\",\"symbol\":\"circle\"},\"mode\":\"markers\",\"name\":\"Vagabond\",\"orientation\":\"h\",\"showlegend\":true,\"type\":\"scatter\",\"x\":[1985],\"xaxis\":\"x\",\"y\":[\"Agn\\u00e8s Varda\"],\"yaxis\":\"y\"},{\"hovertemplate\":\"movie=Near Dark<br>year=%{x}<br>director=%{y}<extra></extra>\",\"legendgroup\":\"Near Dark\",\"marker\":{\"color\":\"#B6E880\",\"symbol\":\"circle\"},\"mode\":\"markers\",\"name\":\"Near Dark\",\"orientation\":\"h\",\"showlegend\":true,\"type\":\"scatter\",\"x\":[1987],\"xaxis\":\"x\",\"y\":[\"Kathryn Bigelow\"],\"yaxis\":\"y\"},{\"hovertemplate\":\"movie=Salaam Bombay!<br>year=%{x}<br>director=%{y}<extra></extra>\",\"legendgroup\":\"Salaam Bombay!\",\"marker\":{\"color\":\"#FF97FF\",\"symbol\":\"circle\"},\"mode\":\"markers\",\"name\":\"Salaam Bombay!\",\"orientation\":\"h\",\"showlegend\":true,\"type\":\"scatter\",\"x\":[1988],\"xaxis\":\"x\",\"y\":[\"Mira Nair\"],\"yaxis\":\"y\"},{\"hovertemplate\":\"movie=Big<br>year=%{x}<br>director=%{y}<extra></extra>\",\"legendgroup\":\"Big\",\"marker\":{\"color\":\"#FECB52\",\"symbol\":\"circle\"},\"mode\":\"markers\",\"name\":\"Big\",\"orientation\":\"h\",\"showlegend\":true,\"type\":\"scatter\",\"x\":[1988],\"xaxis\":\"x\",\"y\":[\"Penny Marshall\"],\"yaxis\":\"y\"},{\"hovertemplate\":\"movie=Chocolat<br>year=%{x}<br>director=%{y}<extra></extra>\",\"legendgroup\":\"Chocolat\",\"marker\":{\"color\":\"#636efa\",\"symbol\":\"circle\"},\"mode\":\"markers\",\"name\":\"Chocolat\",\"orientation\":\"h\",\"showlegend\":true,\"type\":\"scatter\",\"x\":[1988],\"xaxis\":\"x\",\"y\":[\"Claire Denis\"],\"yaxis\":\"y\"},{\"hovertemplate\":\"movie=The Asthenic Syndrome<br>year=%{x}<br>director=%{y}<extra></extra>\",\"legendgroup\":\"The Asthenic Syndrome\",\"marker\":{\"color\":\"#EF553B\",\"symbol\":\"circle\"},\"mode\":\"markers\",\"name\":\"The Asthenic Syndrome\",\"orientation\":\"h\",\"showlegend\":true,\"type\":\"scatter\",\"x\":[1989],\"xaxis\":\"x\",\"y\":[\"Kira Muratova\"],\"yaxis\":\"y\"},{\"hovertemplate\":\"movie=An Angel at my Table<br>year=%{x}<br>director=%{y}<extra></extra>\",\"legendgroup\":\"An Angel at my Table\",\"marker\":{\"color\":\"#00cc96\",\"symbol\":\"circle\"},\"mode\":\"markers\",\"name\":\"An Angel at my Table\",\"orientation\":\"h\",\"showlegend\":true,\"type\":\"scatter\",\"x\":[1990],\"xaxis\":\"x\",\"y\":[\"Jane Campion\"],\"yaxis\":\"y\"},{\"hovertemplate\":\"movie=Point Break<br>year=%{x}<br>director=%{y}<extra></extra>\",\"legendgroup\":\"Point Break\",\"marker\":{\"color\":\"#ab63fa\",\"symbol\":\"circle\"},\"mode\":\"markers\",\"name\":\"Point Break\",\"orientation\":\"h\",\"showlegend\":true,\"type\":\"scatter\",\"x\":[1991],\"xaxis\":\"x\",\"y\":[\"Kathryn Bigelow\"],\"yaxis\":\"y\"},{\"hovertemplate\":\"movie=A League of their Own<br>year=%{x}<br>director=%{y}<extra></extra>\",\"legendgroup\":\"A League of their Own\",\"marker\":{\"color\":\"#FFA15A\",\"symbol\":\"circle\"},\"mode\":\"markers\",\"name\":\"A League of their Own\",\"orientation\":\"h\",\"showlegend\":true,\"type\":\"scatter\",\"x\":[1992],\"xaxis\":\"x\",\"y\":[\"Penny Marshall\"],\"yaxis\":\"y\"},{\"hovertemplate\":\"movie=The Piano<br>year=%{x}<br>director=%{y}<extra></extra>\",\"legendgroup\":\"The Piano\",\"marker\":{\"color\":\"#19d3f3\",\"symbol\":\"circle\"},\"mode\":\"markers\",\"name\":\"The Piano\",\"orientation\":\"h\",\"showlegend\":true,\"type\":\"scatter\",\"x\":[1993],\"xaxis\":\"x\",\"y\":[\"Jane Campion\"],\"yaxis\":\"y\"},{\"hovertemplate\":\"movie=Strange Days<br>year=%{x}<br>director=%{y}<extra></extra>\",\"legendgroup\":\"Strange Days\",\"marker\":{\"color\":\"#FF6692\",\"symbol\":\"circle\"},\"mode\":\"markers\",\"name\":\"Strange Days\",\"orientation\":\"h\",\"showlegend\":true,\"type\":\"scatter\",\"x\":[1995],\"xaxis\":\"x\",\"y\":[\"Kathryn Bigelow\"],\"yaxis\":\"y\"},{\"hovertemplate\":\"movie=Clueless<br>year=%{x}<br>director=%{y}<extra></extra>\",\"legendgroup\":\"Clueless\",\"marker\":{\"color\":\"#B6E880\",\"symbol\":\"circle\"},\"mode\":\"markers\",\"name\":\"Clueless\",\"orientation\":\"h\",\"showlegend\":true,\"type\":\"scatter\",\"x\":[1995],\"xaxis\":\"x\",\"y\":[\"Amy Heckerling\"],\"yaxis\":\"y\"},{\"hovertemplate\":\"movie=Beau Travail<br>year=%{x}<br>director=%{y}<extra></extra>\",\"legendgroup\":\"Beau Travail\",\"marker\":{\"color\":\"#FF97FF\",\"symbol\":\"circle\"},\"mode\":\"markers\",\"name\":\"Beau Travail\",\"orientation\":\"h\",\"showlegend\":true,\"type\":\"scatter\",\"x\":[1999],\"xaxis\":\"x\",\"y\":[\"Claire Denis\"],\"yaxis\":\"y\"},{\"hovertemplate\":\"movie=Ratcatcher<br>year=%{x}<br>director=%{y}<extra></extra>\",\"legendgroup\":\"Ratcatcher\",\"marker\":{\"color\":\"#FECB52\",\"symbol\":\"circle\"},\"mode\":\"markers\",\"name\":\"Ratcatcher\",\"orientation\":\"h\",\"showlegend\":true,\"type\":\"scatter\",\"x\":[1999],\"xaxis\":\"x\",\"y\":[\"Lynne Ramsay\"],\"yaxis\":\"y\"},{\"hovertemplate\":\"movie=The Virgin Suicides<br>year=%{x}<br>director=%{y}<extra></extra>\",\"legendgroup\":\"The Virgin Suicides\",\"marker\":{\"color\":\"#636efa\",\"symbol\":\"circle\"},\"mode\":\"markers\",\"name\":\"The Virgin Suicides\",\"orientation\":\"h\",\"showlegend\":true,\"type\":\"scatter\",\"x\":[1999],\"xaxis\":\"x\",\"y\":[\"Sofia Coppola\"],\"yaxis\":\"y\"},{\"hovertemplate\":\"movie=The Gleaners and I<br>year=%{x}<br>director=%{y}<extra></extra>\",\"legendgroup\":\"The Gleaners and I\",\"marker\":{\"color\":\"#EF553B\",\"symbol\":\"circle\"},\"mode\":\"markers\",\"name\":\"The Gleaners and I\",\"orientation\":\"h\",\"showlegend\":true,\"type\":\"scatter\",\"x\":[2000],\"xaxis\":\"x\",\"y\":[\"Agn\\u00e8s Varda\"],\"yaxis\":\"y\"},{\"hovertemplate\":\"movie=Monsoon Wedding<br>year=%{x}<br>director=%{y}<extra></extra>\",\"legendgroup\":\"Monsoon Wedding\",\"marker\":{\"color\":\"#00cc96\",\"symbol\":\"circle\"},\"mode\":\"markers\",\"name\":\"Monsoon Wedding\",\"orientation\":\"h\",\"showlegend\":true,\"type\":\"scatter\",\"x\":[2001],\"xaxis\":\"x\",\"y\":[\"Mira Nair\"],\"yaxis\":\"y\"},{\"hovertemplate\":\"movie=The Swamp<br>year=%{x}<br>director=%{y}<extra></extra>\",\"legendgroup\":\"The Swamp\",\"marker\":{\"color\":\"#ab63fa\",\"symbol\":\"circle\"},\"mode\":\"markers\",\"name\":\"The Swamp\",\"orientation\":\"h\",\"showlegend\":true,\"type\":\"scatter\",\"x\":[2001],\"xaxis\":\"x\",\"y\":[\"Lucrecia Martel\"],\"yaxis\":\"y\"},{\"hovertemplate\":\"movie=Morvern Callar<br>year=%{x}<br>director=%{y}<extra></extra>\",\"legendgroup\":\"Morvern Callar\",\"marker\":{\"color\":\"#FFA15A\",\"symbol\":\"circle\"},\"mode\":\"markers\",\"name\":\"Morvern Callar\",\"orientation\":\"h\",\"showlegend\":true,\"type\":\"scatter\",\"x\":[2002],\"xaxis\":\"x\",\"y\":[\"Lynne Ramsay\"],\"yaxis\":\"y\"},{\"hovertemplate\":\"movie=Lost in Translation<br>year=%{x}<br>director=%{y}<extra></extra>\",\"legendgroup\":\"Lost in Translation\",\"marker\":{\"color\":\"#19d3f3\",\"symbol\":\"circle\"},\"mode\":\"markers\",\"name\":\"Lost in Translation\",\"orientation\":\"h\",\"showlegend\":true,\"type\":\"scatter\",\"x\":[2003],\"xaxis\":\"x\",\"y\":[\"Sofia Coppola\"],\"yaxis\":\"y\"},{\"hovertemplate\":\"movie=Red Road<br>year=%{x}<br>director=%{y}<extra></extra>\",\"legendgroup\":\"Red Road\",\"marker\":{\"color\":\"#FF6692\",\"symbol\":\"circle\"},\"mode\":\"markers\",\"name\":\"Red Road\",\"orientation\":\"h\",\"showlegend\":true,\"type\":\"scatter\",\"x\":[2006],\"xaxis\":\"x\",\"y\":[\"Andrea Arnold\"],\"yaxis\":\"y\"},{\"hovertemplate\":\"movie=Marie Antoinette<br>year=%{x}<br>director=%{y}<extra></extra>\",\"legendgroup\":\"Marie Antoinette\",\"marker\":{\"color\":\"#B6E880\",\"symbol\":\"circle\"},\"mode\":\"markers\",\"name\":\"Marie Antoinette\",\"orientation\":\"h\",\"showlegend\":true,\"type\":\"scatter\",\"x\":[2006],\"xaxis\":\"x\",\"y\":[\"Sofia Coppola\"],\"yaxis\":\"y\"},{\"hovertemplate\":\"movie=The Hurt Locker<br>year=%{x}<br>director=%{y}<extra></extra>\",\"legendgroup\":\"The Hurt Locker\",\"marker\":{\"color\":\"#FF97FF\",\"symbol\":\"circle\"},\"mode\":\"markers\",\"name\":\"The Hurt Locker\",\"orientation\":\"h\",\"showlegend\":true,\"type\":\"scatter\",\"x\":[2008],\"xaxis\":\"x\",\"y\":[\"Kathryn Bigelow\"],\"yaxis\":\"y\"},{\"hovertemplate\":\"movie=The Beaches of Agnes<br>year=%{x}<br>director=%{y}<extra></extra>\",\"legendgroup\":\"The Beaches of Agnes\",\"marker\":{\"color\":\"#FECB52\",\"symbol\":\"circle\"},\"mode\":\"markers\",\"name\":\"The Beaches of Agnes\",\"orientation\":\"h\",\"showlegend\":true,\"type\":\"scatter\",\"x\":[2008],\"xaxis\":\"x\",\"y\":[\"Agn\\u00e8s Varda\"],\"yaxis\":\"y\"},{\"hovertemplate\":\"movie=35 Shots of Rum<br>year=%{x}<br>director=%{y}<extra></extra>\",\"legendgroup\":\"35 Shots of Rum\",\"marker\":{\"color\":\"#636efa\",\"symbol\":\"circle\"},\"mode\":\"markers\",\"name\":\"35 Shots of Rum\",\"orientation\":\"h\",\"showlegend\":true,\"type\":\"scatter\",\"x\":[2008],\"xaxis\":\"x\",\"y\":[\"Claire Denis\"],\"yaxis\":\"y\"},{\"hovertemplate\":\"movie=The Headless Woman<br>year=%{x}<br>director=%{y}<extra></extra>\",\"legendgroup\":\"The Headless Woman\",\"marker\":{\"color\":\"#EF553B\",\"symbol\":\"circle\"},\"mode\":\"markers\",\"name\":\"The Headless Woman\",\"orientation\":\"h\",\"showlegend\":true,\"type\":\"scatter\",\"x\":[2008],\"xaxis\":\"x\",\"y\":[\"Lucrecia Martel\"],\"yaxis\":\"y\"},{\"hovertemplate\":\"movie=Wendy and Lucy<br>year=%{x}<br>director=%{y}<extra></extra>\",\"legendgroup\":\"Wendy and Lucy\",\"marker\":{\"color\":\"#00cc96\",\"symbol\":\"circle\"},\"mode\":\"markers\",\"name\":\"Wendy and Lucy\",\"orientation\":\"h\",\"showlegend\":true,\"type\":\"scatter\",\"x\":[2008],\"xaxis\":\"x\",\"y\":[\"Kelly Reichardt\"],\"yaxis\":\"y\"},{\"hovertemplate\":\"movie=Bright Star<br>year=%{x}<br>director=%{y}<extra></extra>\",\"legendgroup\":\"Bright Star\",\"marker\":{\"color\":\"#ab63fa\",\"symbol\":\"circle\"},\"mode\":\"markers\",\"name\":\"Bright Star\",\"orientation\":\"h\",\"showlegend\":true,\"type\":\"scatter\",\"x\":[2009],\"xaxis\":\"x\",\"y\":[\"Jane Campion\"],\"yaxis\":\"y\"},{\"hovertemplate\":\"movie=Fish Tank<br>year=%{x}<br>director=%{y}<extra></extra>\",\"legendgroup\":\"Fish Tank\",\"marker\":{\"color\":\"#FFA15A\",\"symbol\":\"circle\"},\"mode\":\"markers\",\"name\":\"Fish Tank\",\"orientation\":\"h\",\"showlegend\":true,\"type\":\"scatter\",\"x\":[2009],\"xaxis\":\"x\",\"y\":[\"Andrea Arnold\"],\"yaxis\":\"y\"},{\"hovertemplate\":\"movie=White Material<br>year=%{x}<br>director=%{y}<extra></extra>\",\"legendgroup\":\"White Material\",\"marker\":{\"color\":\"#19d3f3\",\"symbol\":\"circle\"},\"mode\":\"markers\",\"name\":\"White Material\",\"orientation\":\"h\",\"showlegend\":true,\"type\":\"scatter\",\"x\":[2009],\"xaxis\":\"x\",\"y\":[\"Claire Denis\"],\"yaxis\":\"y\"},{\"hovertemplate\":\"movie=Meek\\u2019s Cutoff<br>year=%{x}<br>director=%{y}<extra></extra>\",\"legendgroup\":\"Meek\\u2019s Cutoff\",\"marker\":{\"color\":\"#FF6692\",\"symbol\":\"circle\"},\"mode\":\"markers\",\"name\":\"Meek\\u2019s Cutoff\",\"orientation\":\"h\",\"showlegend\":true,\"type\":\"scatter\",\"x\":[2010],\"xaxis\":\"x\",\"y\":[\"Kelly Reichardt\"],\"yaxis\":\"y\"},{\"hovertemplate\":\"movie=Somewhere<br>year=%{x}<br>director=%{y}<extra></extra>\",\"legendgroup\":\"Somewhere\",\"marker\":{\"color\":\"#B6E880\",\"symbol\":\"circle\"},\"mode\":\"markers\",\"name\":\"Somewhere\",\"orientation\":\"h\",\"showlegend\":true,\"type\":\"scatter\",\"x\":[2010],\"xaxis\":\"x\",\"y\":[\"Sofia Coppola\"],\"yaxis\":\"y\"},{\"hovertemplate\":\"movie=Winter\\u2019s Bone<br>year=%{x}<br>director=%{y}<extra></extra>\",\"legendgroup\":\"Winter\\u2019s Bone\",\"marker\":{\"color\":\"#FF97FF\",\"symbol\":\"circle\"},\"mode\":\"markers\",\"name\":\"Winter\\u2019s Bone\",\"orientation\":\"h\",\"showlegend\":true,\"type\":\"scatter\",\"x\":[2010],\"xaxis\":\"x\",\"y\":[\"Debra Granik\"],\"yaxis\":\"y\"},{\"hovertemplate\":\"movie=We Need to Talk About Kevin<br>year=%{x}<br>director=%{y}<extra></extra>\",\"legendgroup\":\"We Need to Talk About Kevin\",\"marker\":{\"color\":\"#FECB52\",\"symbol\":\"circle\"},\"mode\":\"markers\",\"name\":\"We Need to Talk About Kevin\",\"orientation\":\"h\",\"showlegend\":true,\"type\":\"scatter\",\"x\":[2011],\"xaxis\":\"x\",\"y\":[\"Lynne Ramsay\"],\"yaxis\":\"y\"},{\"hovertemplate\":\"movie=Tomboy<br>year=%{x}<br>director=%{y}<extra></extra>\",\"legendgroup\":\"Tomboy\",\"marker\":{\"color\":\"#636efa\",\"symbol\":\"circle\"},\"mode\":\"markers\",\"name\":\"Tomboy\",\"orientation\":\"h\",\"showlegend\":true,\"type\":\"scatter\",\"x\":[2011],\"xaxis\":\"x\",\"y\":[\"C\\u00e9line Sciamma\"],\"yaxis\":\"y\"},{\"hovertemplate\":\"movie=Zero Dark Thirty<br>year=%{x}<br>director=%{y}<extra></extra>\",\"legendgroup\":\"Zero Dark Thirty\",\"marker\":{\"color\":\"#EF553B\",\"symbol\":\"circle\"},\"mode\":\"markers\",\"name\":\"Zero Dark Thirty\",\"orientation\":\"h\",\"showlegend\":true,\"type\":\"scatter\",\"x\":[2012],\"xaxis\":\"x\",\"y\":[\"Kathryn Bigelow\"],\"yaxis\":\"y\"},{\"hovertemplate\":\"movie=Girlhood<br>year=%{x}<br>director=%{y}<extra></extra>\",\"legendgroup\":\"Girlhood\",\"marker\":{\"color\":\"#00cc96\",\"symbol\":\"circle\"},\"mode\":\"markers\",\"name\":\"Girlhood\",\"orientation\":\"h\",\"showlegend\":true,\"type\":\"scatter\",\"x\":[2014],\"xaxis\":\"x\",\"y\":[\"C\\u00e9line Sciamma\"],\"yaxis\":\"y\"},{\"hovertemplate\":\"movie=Selma<br>year=%{x}<br>director=%{y}<extra></extra>\",\"legendgroup\":\"Selma\",\"marker\":{\"color\":\"#ab63fa\",\"symbol\":\"circle\"},\"mode\":\"markers\",\"name\":\"Selma\",\"orientation\":\"h\",\"showlegend\":true,\"type\":\"scatter\",\"x\":[2014],\"xaxis\":\"x\",\"y\":[\"Ava DuVernay\"],\"yaxis\":\"y\"},{\"hovertemplate\":\"movie=American Honey<br>year=%{x}<br>director=%{y}<extra></extra>\",\"legendgroup\":\"American Honey\",\"marker\":{\"color\":\"#FFA15A\",\"symbol\":\"circle\"},\"mode\":\"markers\",\"name\":\"American Honey\",\"orientation\":\"h\",\"showlegend\":true,\"type\":\"scatter\",\"x\":[2016],\"xaxis\":\"x\",\"y\":[\"Andrea Arnold\"],\"yaxis\":\"y\"},{\"hovertemplate\":\"movie=13th<br>year=%{x}<br>director=%{y}<extra></extra>\",\"legendgroup\":\"13th\",\"marker\":{\"color\":\"#19d3f3\",\"symbol\":\"circle\"},\"mode\":\"markers\",\"name\":\"13th\",\"orientation\":\"h\",\"showlegend\":true,\"type\":\"scatter\",\"x\":[2016],\"xaxis\":\"x\",\"y\":[\"Ava DuVernay\"],\"yaxis\":\"y\"},{\"hovertemplate\":\"movie=Zama<br>year=%{x}<br>director=%{y}<extra></extra>\",\"legendgroup\":\"Zama\",\"marker\":{\"color\":\"#FF6692\",\"symbol\":\"circle\"},\"mode\":\"markers\",\"name\":\"Zama\",\"orientation\":\"h\",\"showlegend\":true,\"type\":\"scatter\",\"x\":[2017],\"xaxis\":\"x\",\"y\":[\"Lucrecia Martel\"],\"yaxis\":\"y\"},{\"hovertemplate\":\"movie=You Were Never Really Here<br>year=%{x}<br>director=%{y}<extra></extra>\",\"legendgroup\":\"You Were Never Really Here\",\"marker\":{\"color\":\"#B6E880\",\"symbol\":\"circle\"},\"mode\":\"markers\",\"name\":\"You Were Never Really Here\",\"orientation\":\"h\",\"showlegend\":true,\"type\":\"scatter\",\"x\":[2017],\"xaxis\":\"x\",\"y\":[\"Lynne Ramsay\"],\"yaxis\":\"y\"},{\"hovertemplate\":\"movie=Leave no Trace<br>year=%{x}<br>director=%{y}<extra></extra>\",\"legendgroup\":\"Leave no Trace\",\"marker\":{\"color\":\"#FF97FF\",\"symbol\":\"circle\"},\"mode\":\"markers\",\"name\":\"Leave no Trace\",\"orientation\":\"h\",\"showlegend\":true,\"type\":\"scatter\",\"x\":[2018],\"xaxis\":\"x\",\"y\":[\"Debra Granik\"],\"yaxis\":\"y\"},{\"hovertemplate\":\"movie=Portrait of a Lady on Fire<br>year=%{x}<br>director=%{y}<extra></extra>\",\"legendgroup\":\"Portrait of a Lady on Fire\",\"marker\":{\"color\":\"#FECB52\",\"symbol\":\"circle\"},\"mode\":\"markers\",\"name\":\"Portrait of a Lady on Fire\",\"orientation\":\"h\",\"showlegend\":true,\"type\":\"scatter\",\"x\":[2019],\"xaxis\":\"x\",\"y\":[\"C\\u00e9line Sciamma\"],\"yaxis\":\"y\"}],                        {\"legend\":{\"title\":{\"text\":\"movie\"},\"tracegroupgap\":0},\"margin\":{\"t\":60},\"template\":{\"data\":{\"bar\":[{\"error_x\":{\"color\":\"#2a3f5f\"},\"error_y\":{\"color\":\"#2a3f5f\"},\"marker\":{\"line\":{\"color\":\"#E5ECF6\",\"width\":0.5},\"pattern\":{\"fillmode\":\"overlay\",\"size\":10,\"solidity\":0.2}},\"type\":\"bar\"}],\"barpolar\":[{\"marker\":{\"line\":{\"color\":\"#E5ECF6\",\"width\":0.5},\"pattern\":{\"fillmode\":\"overlay\",\"size\":10,\"solidity\":0.2}},\"type\":\"barpolar\"}],\"carpet\":[{\"aaxis\":{\"endlinecolor\":\"#2a3f5f\",\"gridcolor\":\"white\",\"linecolor\":\"white\",\"minorgridcolor\":\"white\",\"startlinecolor\":\"#2a3f5f\"},\"baxis\":{\"endlinecolor\":\"#2a3f5f\",\"gridcolor\":\"white\",\"linecolor\":\"white\",\"minorgridcolor\":\"white\",\"startlinecolor\":\"#2a3f5f\"},\"type\":\"carpet\"}],\"choropleth\":[{\"colorbar\":{\"outlinewidth\":0,\"ticks\":\"\"},\"type\":\"choropleth\"}],\"contour\":[{\"colorbar\":{\"outlinewidth\":0,\"ticks\":\"\"},\"colorscale\":[[0.0,\"#0d0887\"],[0.1111111111111111,\"#46039f\"],[0.2222222222222222,\"#7201a8\"],[0.3333333333333333,\"#9c179e\"],[0.4444444444444444,\"#bd3786\"],[0.5555555555555556,\"#d8576b\"],[0.6666666666666666,\"#ed7953\"],[0.7777777777777778,\"#fb9f3a\"],[0.8888888888888888,\"#fdca26\"],[1.0,\"#f0f921\"]],\"type\":\"contour\"}],\"contourcarpet\":[{\"colorbar\":{\"outlinewidth\":0,\"ticks\":\"\"},\"type\":\"contourcarpet\"}],\"heatmap\":[{\"colorbar\":{\"outlinewidth\":0,\"ticks\":\"\"},\"colorscale\":[[0.0,\"#0d0887\"],[0.1111111111111111,\"#46039f\"],[0.2222222222222222,\"#7201a8\"],[0.3333333333333333,\"#9c179e\"],[0.4444444444444444,\"#bd3786\"],[0.5555555555555556,\"#d8576b\"],[0.6666666666666666,\"#ed7953\"],[0.7777777777777778,\"#fb9f3a\"],[0.8888888888888888,\"#fdca26\"],[1.0,\"#f0f921\"]],\"type\":\"heatmap\"}],\"heatmapgl\":[{\"colorbar\":{\"outlinewidth\":0,\"ticks\":\"\"},\"colorscale\":[[0.0,\"#0d0887\"],[0.1111111111111111,\"#46039f\"],[0.2222222222222222,\"#7201a8\"],[0.3333333333333333,\"#9c179e\"],[0.4444444444444444,\"#bd3786\"],[0.5555555555555556,\"#d8576b\"],[0.6666666666666666,\"#ed7953\"],[0.7777777777777778,\"#fb9f3a\"],[0.8888888888888888,\"#fdca26\"],[1.0,\"#f0f921\"]],\"type\":\"heatmapgl\"}],\"histogram\":[{\"marker\":{\"pattern\":{\"fillmode\":\"overlay\",\"size\":10,\"solidity\":0.2}},\"type\":\"histogram\"}],\"histogram2d\":[{\"colorbar\":{\"outlinewidth\":0,\"ticks\":\"\"},\"colorscale\":[[0.0,\"#0d0887\"],[0.1111111111111111,\"#46039f\"],[0.2222222222222222,\"#7201a8\"],[0.3333333333333333,\"#9c179e\"],[0.4444444444444444,\"#bd3786\"],[0.5555555555555556,\"#d8576b\"],[0.6666666666666666,\"#ed7953\"],[0.7777777777777778,\"#fb9f3a\"],[0.8888888888888888,\"#fdca26\"],[1.0,\"#f0f921\"]],\"type\":\"histogram2d\"}],\"histogram2dcontour\":[{\"colorbar\":{\"outlinewidth\":0,\"ticks\":\"\"},\"colorscale\":[[0.0,\"#0d0887\"],[0.1111111111111111,\"#46039f\"],[0.2222222222222222,\"#7201a8\"],[0.3333333333333333,\"#9c179e\"],[0.4444444444444444,\"#bd3786\"],[0.5555555555555556,\"#d8576b\"],[0.6666666666666666,\"#ed7953\"],[0.7777777777777778,\"#fb9f3a\"],[0.8888888888888888,\"#fdca26\"],[1.0,\"#f0f921\"]],\"type\":\"histogram2dcontour\"}],\"mesh3d\":[{\"colorbar\":{\"outlinewidth\":0,\"ticks\":\"\"},\"type\":\"mesh3d\"}],\"parcoords\":[{\"line\":{\"colorbar\":{\"outlinewidth\":0,\"ticks\":\"\"}},\"type\":\"parcoords\"}],\"pie\":[{\"automargin\":true,\"type\":\"pie\"}],\"scatter\":[{\"marker\":{\"colorbar\":{\"outlinewidth\":0,\"ticks\":\"\"}},\"type\":\"scatter\"}],\"scatter3d\":[{\"line\":{\"colorbar\":{\"outlinewidth\":0,\"ticks\":\"\"}},\"marker\":{\"colorbar\":{\"outlinewidth\":0,\"ticks\":\"\"}},\"type\":\"scatter3d\"}],\"scattercarpet\":[{\"marker\":{\"colorbar\":{\"outlinewidth\":0,\"ticks\":\"\"}},\"type\":\"scattercarpet\"}],\"scattergeo\":[{\"marker\":{\"colorbar\":{\"outlinewidth\":0,\"ticks\":\"\"}},\"type\":\"scattergeo\"}],\"scattergl\":[{\"marker\":{\"colorbar\":{\"outlinewidth\":0,\"ticks\":\"\"}},\"type\":\"scattergl\"}],\"scattermapbox\":[{\"marker\":{\"colorbar\":{\"outlinewidth\":0,\"ticks\":\"\"}},\"type\":\"scattermapbox\"}],\"scatterpolar\":[{\"marker\":{\"colorbar\":{\"outlinewidth\":0,\"ticks\":\"\"}},\"type\":\"scatterpolar\"}],\"scatterpolargl\":[{\"marker\":{\"colorbar\":{\"outlinewidth\":0,\"ticks\":\"\"}},\"type\":\"scatterpolargl\"}],\"scatterternary\":[{\"marker\":{\"colorbar\":{\"outlinewidth\":0,\"ticks\":\"\"}},\"type\":\"scatterternary\"}],\"surface\":[{\"colorbar\":{\"outlinewidth\":0,\"ticks\":\"\"},\"colorscale\":[[0.0,\"#0d0887\"],[0.1111111111111111,\"#46039f\"],[0.2222222222222222,\"#7201a8\"],[0.3333333333333333,\"#9c179e\"],[0.4444444444444444,\"#bd3786\"],[0.5555555555555556,\"#d8576b\"],[0.6666666666666666,\"#ed7953\"],[0.7777777777777778,\"#fb9f3a\"],[0.8888888888888888,\"#fdca26\"],[1.0,\"#f0f921\"]],\"type\":\"surface\"}],\"table\":[{\"cells\":{\"fill\":{\"color\":\"#EBF0F8\"},\"line\":{\"color\":\"white\"}},\"header\":{\"fill\":{\"color\":\"#C8D4E3\"},\"line\":{\"color\":\"white\"}},\"type\":\"table\"}]},\"layout\":{\"annotationdefaults\":{\"arrowcolor\":\"#2a3f5f\",\"arrowhead\":0,\"arrowwidth\":1},\"autotypenumbers\":\"strict\",\"coloraxis\":{\"colorbar\":{\"outlinewidth\":0,\"ticks\":\"\"}},\"colorscale\":{\"diverging\":[[0,\"#8e0152\"],[0.1,\"#c51b7d\"],[0.2,\"#de77ae\"],[0.3,\"#f1b6da\"],[0.4,\"#fde0ef\"],[0.5,\"#f7f7f7\"],[0.6,\"#e6f5d0\"],[0.7,\"#b8e186\"],[0.8,\"#7fbc41\"],[0.9,\"#4d9221\"],[1,\"#276419\"]],\"sequential\":[[0.0,\"#0d0887\"],[0.1111111111111111,\"#46039f\"],[0.2222222222222222,\"#7201a8\"],[0.3333333333333333,\"#9c179e\"],[0.4444444444444444,\"#bd3786\"],[0.5555555555555556,\"#d8576b\"],[0.6666666666666666,\"#ed7953\"],[0.7777777777777778,\"#fb9f3a\"],[0.8888888888888888,\"#fdca26\"],[1.0,\"#f0f921\"]],\"sequentialminus\":[[0.0,\"#0d0887\"],[0.1111111111111111,\"#46039f\"],[0.2222222222222222,\"#7201a8\"],[0.3333333333333333,\"#9c179e\"],[0.4444444444444444,\"#bd3786\"],[0.5555555555555556,\"#d8576b\"],[0.6666666666666666,\"#ed7953\"],[0.7777777777777778,\"#fb9f3a\"],[0.8888888888888888,\"#fdca26\"],[1.0,\"#f0f921\"]]},\"colorway\":[\"#636efa\",\"#EF553B\",\"#00cc96\",\"#ab63fa\",\"#FFA15A\",\"#19d3f3\",\"#FF6692\",\"#B6E880\",\"#FF97FF\",\"#FECB52\"],\"font\":{\"color\":\"#2a3f5f\"},\"geo\":{\"bgcolor\":\"white\",\"lakecolor\":\"white\",\"landcolor\":\"#E5ECF6\",\"showlakes\":true,\"showland\":true,\"subunitcolor\":\"white\"},\"hoverlabel\":{\"align\":\"left\"},\"hovermode\":\"closest\",\"mapbox\":{\"style\":\"light\"},\"paper_bgcolor\":\"white\",\"plot_bgcolor\":\"#E5ECF6\",\"polar\":{\"angularaxis\":{\"gridcolor\":\"white\",\"linecolor\":\"white\",\"ticks\":\"\"},\"bgcolor\":\"#E5ECF6\",\"radialaxis\":{\"gridcolor\":\"white\",\"linecolor\":\"white\",\"ticks\":\"\"}},\"scene\":{\"xaxis\":{\"backgroundcolor\":\"#E5ECF6\",\"gridcolor\":\"white\",\"gridwidth\":2,\"linecolor\":\"white\",\"showbackground\":true,\"ticks\":\"\",\"zerolinecolor\":\"white\"},\"yaxis\":{\"backgroundcolor\":\"#E5ECF6\",\"gridcolor\":\"white\",\"gridwidth\":2,\"linecolor\":\"white\",\"showbackground\":true,\"ticks\":\"\",\"zerolinecolor\":\"white\"},\"zaxis\":{\"backgroundcolor\":\"#E5ECF6\",\"gridcolor\":\"white\",\"gridwidth\":2,\"linecolor\":\"white\",\"showbackground\":true,\"ticks\":\"\",\"zerolinecolor\":\"white\"}},\"shapedefaults\":{\"line\":{\"color\":\"#2a3f5f\"}},\"ternary\":{\"aaxis\":{\"gridcolor\":\"white\",\"linecolor\":\"white\",\"ticks\":\"\"},\"baxis\":{\"gridcolor\":\"white\",\"linecolor\":\"white\",\"ticks\":\"\"},\"bgcolor\":\"#E5ECF6\",\"caxis\":{\"gridcolor\":\"white\",\"linecolor\":\"white\",\"ticks\":\"\"}},\"title\":{\"x\":0.05},\"xaxis\":{\"automargin\":true,\"gridcolor\":\"white\",\"linecolor\":\"white\",\"ticks\":\"\",\"title\":{\"standoff\":15},\"zerolinecolor\":\"white\",\"zerolinewidth\":2},\"yaxis\":{\"automargin\":true,\"gridcolor\":\"white\",\"linecolor\":\"white\",\"ticks\":\"\",\"title\":{\"standoff\":15},\"zerolinecolor\":\"white\",\"zerolinewidth\":2}}},\"xaxis\":{\"anchor\":\"y\",\"domain\":[0.0,1.0],\"title\":{\"text\":\"year\"}},\"yaxis\":{\"anchor\":\"x\",\"domain\":[0.0,1.0],\"title\":{\"text\":\"director\"}}},                        {\"responsive\": true}                    ).then(function(){\n",
       "                            \n",
       "var gd = document.getElementById('3a9d0a42-b311-482b-b703-8cfeceb211e6');\n",
       "var x = new MutationObserver(function (mutations, observer) {{\n",
       "        var display = window.getComputedStyle(gd).display;\n",
       "        if (!display || display === 'none') {{\n",
       "            console.log([gd, 'removed!']);\n",
       "            Plotly.purge(gd);\n",
       "            observer.disconnect();\n",
       "        }}\n",
       "}});\n",
       "\n",
       "// Listen for the removal of the full notebook cells\n",
       "var notebookContainer = gd.closest('#notebook-container');\n",
       "if (notebookContainer) {{\n",
       "    x.observe(notebookContainer, {childList: true});\n",
       "}}\n",
       "\n",
       "// Listen for the clearing of the current output cell\n",
       "var outputEl = gd.closest('.output');\n",
       "if (outputEl) {{\n",
       "    x.observe(outputEl, {childList: true});\n",
       "}}\n",
       "\n",
       "                        })                };                });            </script>        </div>"
      ]
     },
     "metadata": {},
     "output_type": "display_data"
    }
   ],
   "source": [
    "import plotly.express as px\n",
    "fig = px.scatter(new_df, x=\"year\",y= \"director\", color=\"movie\")\n",
    "fig.show()"
   ]
  },
  {
   "cell_type": "code",
   "execution_count": null,
   "metadata": {},
   "outputs": [],
   "source": []
  }
 ],
 "metadata": {
  "kernelspec": {
   "display_name": "Python 3",
   "language": "python",
   "name": "python3"
  },
  "language_info": {
   "codemirror_mode": {
    "name": "ipython",
    "version": 3
   },
   "file_extension": ".py",
   "mimetype": "text/x-python",
   "name": "python",
   "nbconvert_exporter": "python",
   "pygments_lexer": "ipython3",
   "version": "3.8.8"
  }
 },
 "nbformat": 4,
 "nbformat_minor": 4
}
