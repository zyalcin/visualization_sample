{
 "cells": [
  {
   "cell_type": "markdown",
   "metadata": {},
   "source": [
    "# Part 2\n",
    "## The CSV Package\n",
    "### Reading and Writing CSV files\n"
   ]
  },
  {
   "cell_type": "code",
   "execution_count": 1,
   "metadata": {},
   "outputs": [],
   "source": [
    "import csv"
   ]
  },
  {
   "cell_type": "code",
   "execution_count": 2,
   "metadata": {},
   "outputs": [
    {
     "name": "stdout",
     "output_type": "stream",
     "text": [
      "18\n"
     ]
    }
   ],
   "source": [
    "with open('/Users/zeynoyalcin/Downloads/survey-responses.csv') as csvfile:\n",
    "    reader = csv.reader(csvfile)\n",
    "    rows = [row for row in reader] \n",
    "    \n",
    "print(len(rows))"
   ]
  },
  {
   "cell_type": "code",
   "execution_count": 3,
   "metadata": {},
   "outputs": [
    {
     "data": {
      "text/plain": [
       "['2020', '16', '167', '59', 'Tea', 'Otter', 'The Arrival', 'Margaret Atwood']"
      ]
     },
     "execution_count": 3,
     "metadata": {},
     "output_type": "execute_result"
    }
   ],
   "source": [
    "rows[1]"
   ]
  },
  {
   "cell_type": "code",
   "execution_count": 4,
   "metadata": {},
   "outputs": [
    {
     "data": {
      "text/plain": [
       "17"
      ]
     },
     "execution_count": 4,
     "metadata": {},
     "output_type": "execute_result"
    }
   ],
   "source": [
    "with open('/Users/zeynoyalcin/Downloads/survey-responses.csv') as csvfile:\n",
    "    reader = csv.DictReader(csvfile)\n",
    "    rows = [row for row in reader] \n",
    "    \n",
    "len(rows)"
   ]
  },
  {
   "cell_type": "code",
   "execution_count": 5,
   "metadata": {},
   "outputs": [
    {
     "data": {
      "text/plain": [
       "OrderedDict([('Your class year:', '2020'),\n",
       "             ('Your favorite number:', '17'),\n",
       "             ('Your height in centimeters:', '152'),\n",
       "             ('Your weight in kilogram:', '66'),\n",
       "             ('Your favorite drink:', 'Water'),\n",
       "             ('What is your favorite animal?', 'Cat'),\n",
       "             ('What is your favorite movie?', 'North by Northwest'),\n",
       "             ('Who is your favorite woman author?', 'Tamora Pierce')])"
      ]
     },
     "execution_count": 5,
     "metadata": {},
     "output_type": "execute_result"
    }
   ],
   "source": [
    "rows[1]"
   ]
  },
  {
   "cell_type": "code",
   "execution_count": 6,
   "metadata": {},
   "outputs": [],
   "source": [
    "import json\n",
    "with open('/Users/zeynoyalcin/Downloads/women2020.json') as file:\n",
    "    data= json.load(file)\n",
    "    \n",
    "from collections import defaultdict\n",
    "women2020Dict = defaultdict(list)\n",
    "\n",
    "import csv"
   ]
  },
  {
   "cell_type": "code",
   "execution_count": 7,
   "metadata": {},
   "outputs": [],
   "source": [
    "import csv\n",
    "\n",
    "for name in women2020Dict:\n",
    "    with open(str(name)+'.csv', 'w') as csvfile:\n",
    "        fieldnames = women2020Dict[name][0].keys()\n",
    "        writer = csv.DictWriter(csvfile, fieldnames=fieldnames)\n",
    "        writer.writeheader()\n",
    "        for i in range(len(women2020Dict[name])):\n",
    "            writer.writerow(women2020Dict[name][i])"
   ]
  },
  {
   "cell_type": "code",
   "execution_count": 8,
   "metadata": {},
   "outputs": [
    {
     "name": "stdout",
     "output_type": "stream",
     "text": [
      "www.politico.com\n"
     ]
    }
   ],
   "source": [
    "url = 'https://www.politico.com/story/2018/12/17/poll-klobuchar-rising-in-iowa-1067256'\n",
    "\n",
    "from urllib.parse import urlparse\n",
    "\n",
    "result = urlparse(url)\n",
    "print(result.netloc)"
   ]
  },
  {
   "cell_type": "code",
   "execution_count": 9,
   "metadata": {},
   "outputs": [],
   "source": [
    "from urllib.parse import urlparse\n",
    "from collections import Counter\n",
    "uniqueArticlesDict= {}\n",
    "\n",
    "def sourcesFromFile(file): \n",
    "    d= defaultdict(Counter)\n",
    "    with open(file, newline= '') as file:\n",
    "        reader = csv.DictReader(file, delimiter=',')\n",
    "        for row in reader:\n",
    "            url = row['url']\n",
    "            source = urlparse(url).netloc\n",
    "            d[source][url] += 1\n",
    "    names = file.name.split()\n",
    "    lastnames = names[1].replace(\".csv\",\"\")\n",
    "            \n",
    "    with open(lastnames+ '-media.json','w') as f:\n",
    "        json.dump(d, f)\n",
    "        return d "
   ]
  },
  {
   "cell_type": "code",
   "execution_count": 10,
   "metadata": {},
   "outputs": [],
   "source": [
    "elizabeth_dict = sourcesFromFile(\"Elizabeth Warren.csv\")\n",
    "kirsten_dict = sourcesFromFile(\"Kirsten Gillibrand.csv\")\n",
    "amy_dict= sourcesFromFile(\"Amy Klobuchar.csv\")\n",
    "kamala_dict= sourcesFromFile(\"Kamala Harris.csv\")"
   ]
  },
  {
   "cell_type": "code",
   "execution_count": 11,
   "metadata": {},
   "outputs": [],
   "source": [
    "def getTop5Sources(mediaDict): \n",
    "    counterDict= Counter()\n",
    "    for mediaName in mediaDict:\n",
    "            counterDict[mediaName] = len(mediaDict[mediaName])\n",
    "            #the length gives you the number of unqiue keys\n",
    "    top5= counterDict.most_common(5)\n",
    "    return(top5)         "
   ]
  },
  {
   "cell_type": "code",
   "execution_count": 12,
   "metadata": {},
   "outputs": [
    {
     "data": {
      "text/plain": [
       "[('thehill.com', 112),\n",
       " ('www.foxnews.com', 71),\n",
       " ('www.washingtonexaminer.com', 65),\n",
       " ('www.politico.com', 48),\n",
       " ('www.cnn.com', 45)]"
      ]
     },
     "execution_count": 12,
     "metadata": {},
     "output_type": "execute_result"
    }
   ],
   "source": [
    "getTop5Sources(kirsten_dict)"
   ]
  },
  {
   "cell_type": "code",
   "execution_count": 13,
   "metadata": {},
   "outputs": [
    {
     "data": {
      "text/plain": [
       "[('thehill.com', 103),\n",
       " ('www.cnn.com', 60),\n",
       " ('www.startribune.com', 57),\n",
       " ('www.washingtonpost.com', 49),\n",
       " ('www.politico.com', 41)]"
      ]
     },
     "execution_count": 13,
     "metadata": {},
     "output_type": "execute_result"
    }
   ],
   "source": [
    "getTop5Sources(amy_dict)"
   ]
  },
  {
   "cell_type": "code",
   "execution_count": 14,
   "metadata": {},
   "outputs": [
    {
     "data": {
      "text/plain": [
       "[('thehill.com', 192),\n",
       " ('www.foxnews.com', 138),\n",
       " ('www.cnn.com', 125),\n",
       " ('www.washingtonpost.com', 113),\n",
       " ('www.washingtonexaminer.com', 97)]"
      ]
     },
     "execution_count": 14,
     "metadata": {},
     "output_type": "execute_result"
    }
   ],
   "source": [
    "getTop5Sources(elizabeth_dict)"
   ]
  },
  {
   "cell_type": "code",
   "execution_count": 15,
   "metadata": {},
   "outputs": [
    {
     "data": {
      "text/plain": [
       "[('thehill.com', 180),\n",
       " ('www.cnn.com', 142),\n",
       " ('www.foxnews.com', 119),\n",
       " ('www.politico.com', 118),\n",
       " ('www.washingtonexaminer.com', 86)]"
      ]
     },
     "execution_count": 15,
     "metadata": {},
     "output_type": "execute_result"
    }
   ],
   "source": [
    "getTop5Sources(kamala_dict)"
   ]
  },
  {
   "cell_type": "markdown",
   "metadata": {},
   "source": [
    "# Part 3 \n",
    "## Simple Data Science Tasks \n",
    "### Problem 1: Calculate descriptive statistics for a list of numbers"
   ]
  },
  {
   "cell_type": "code",
   "execution_count": 16,
   "metadata": {},
   "outputs": [
    {
     "name": "stdout",
     "output_type": "stream",
     "text": [
      "count     9.000000\n",
      "mean     10.111111\n",
      "std       2.027588\n",
      "min       7.000000\n",
      "25%       9.000000\n",
      "50%      10.000000\n",
      "75%      11.000000\n",
      "max      14.000000\n",
      "dtype: float64\n"
     ]
    }
   ],
   "source": [
    "import pandas as pd\n",
    "numbers = [10, 14, 11, 11, 9, 8, 7, 10, 11]\n",
    "numS = pd.Series(numbers)\n",
    "print(numS.describe())"
   ]
  },
  {
   "cell_type": "code",
   "execution_count": 17,
   "metadata": {},
   "outputs": [
    {
     "name": "stdout",
     "output_type": "stream",
     "text": [
      "N (count):  9\n",
      "mean:  10.11111111111111\n",
      "Standard Deviation:  1.9116278371205837\n",
      "minimum:  7\n",
      "25%:  9\n",
      "50%:  10\n",
      "75%:  11\n",
      "maximum:  14\n"
     ]
    }
   ],
   "source": [
    "import math\n",
    "count = len(numbers)\n",
    "print(\"N (count): \", count)\n",
    "mean = sum(numbers)/count\n",
    "print(\"mean: \",mean)\n",
    "x = 0\n",
    "for i in numbers:\n",
    "    x+= (i-mean)**2\n",
    "std = math.sqrt(x/count)\n",
    "print(\"Standard Deviation: \",std)\n",
    "sorted_num = sorted(numbers)\n",
    "index25 = int(25/100 * count)\n",
    "index50 = int(50/100 *count)\n",
    "index75 = int(75/100 * count)\n",
    "print(\"minimum: \",sorted_num[0])\n",
    "print(\"25%: \",sorted_num[index25])\n",
    "print(\"50%: \",sorted_num[index50])\n",
    "print(\"75%: \",sorted_num[index75])\n",
    "print(\"maximum: \", sorted_num[len(sorted_num)-1])"
   ]
  },
  {
   "cell_type": "code",
   "execution_count": 18,
   "metadata": {},
   "outputs": [],
   "source": [
    "import string\n",
    "twentyLetters =  string.ascii_uppercase[:20]"
   ]
  },
  {
   "cell_type": "code",
   "execution_count": 19,
   "metadata": {},
   "outputs": [
    {
     "name": "stdout",
     "output_type": "stream",
     "text": [
      "['G', 'J', 'C', 'I', 'O']\n",
      "['P', 'T', 'K', 'A', 'N']\n",
      "['B', 'S', 'E', 'F', 'R']\n",
      "['L', 'H', 'Q', 'D', 'M']\n"
     ]
    }
   ],
   "source": [
    "import random\n",
    "\n",
    "#Algorithym 1: Shuffling to rearrange and then put them in buckets of 5 \n",
    "from random import shuffle\n",
    "shuffled_nums = [twentyLetters[i] for i in range(len(twentyLetters))]\n",
    "shuffle(shuffled_nums)\n",
    "\n",
    "for i in range(0,len(shuffled_nums),5):\n",
    "    print(shuffled_nums[i:i+5])"
   ]
  },
  {
   "cell_type": "code",
   "execution_count": 20,
   "metadata": {},
   "outputs": [
    {
     "name": "stdout",
     "output_type": "stream",
     "text": [
      "['S', 'C', 'K', 'H', 'O']\n",
      "['F', 'R', 'N', 'G', 'D']\n",
      "['E', 'Q', 'L', 'T', 'B']\n",
      "['P', 'M', 'A', 'I', 'J']\n"
     ]
    }
   ],
   "source": [
    "#Algorithym 2: Sampling without replacement \n",
    "randnumsList = random.sample(range(len(twentyLetters)), len(twentyLetters))\n",
    "groups = []\n",
    "\n",
    "for i in randnumsList:\n",
    "    index = randnumsList[i]\n",
    "    groups.append(twentyLetters[index])\n",
    "\n",
    "counter = 0\n",
    "while counter<20:\n",
    "    grouper = groups[counter:counter+5]\n",
    "    counter+=5\n",
    "    print(grouper)\n"
   ]
  }
 ],
 "metadata": {
  "kernelspec": {
   "display_name": "Python 3",
   "language": "python",
   "name": "python3"
  },
  "language_info": {
   "codemirror_mode": {
    "name": "ipython",
    "version": 3
   },
   "file_extension": ".py",
   "mimetype": "text/x-python",
   "name": "python",
   "nbconvert_exporter": "python",
   "pygments_lexer": "ipython3",
   "version": "3.7.6"
  }
 },
 "nbformat": 4,
 "nbformat_minor": 4
}
